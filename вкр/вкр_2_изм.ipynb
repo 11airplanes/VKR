{
 "cells": [
  {
   "cell_type": "markdown",
   "id": "232c28a1-103f-4208-b5bc-f69d3eb65925",
   "metadata": {},
   "source": [
    "# Выпускная квалификационная работа по курсу «Data Science»\n",
    "## Прогнозирование конечных свойств новых материалов (композиционных материалов)¶\n",
    "### Кузьмина Е.В."
   ]
  },
  {
   "cell_type": "markdown",
   "id": "97181ca7-68b6-4c02-b6d1-9506c4c31846",
   "metadata": {},
   "source": [
    "### Часть 2"
   ]
  },
  {
   "cell_type": "markdown",
   "id": "a14c8273-25b4-4fdf-8e74-b03f002d1b12",
   "metadata": {},
   "source": [
    "### Импорт библиотек"
   ]
  },
  {
   "cell_type": "code",
   "execution_count": 1,
   "id": "b805d32e-49bc-4fc5-85d6-cf16bc2879d1",
   "metadata": {},
   "outputs": [],
   "source": [
    "# Загружаем библиотеки"
   ]
  },
  {
   "cell_type": "code",
   "execution_count": 28,
   "id": "37a3b15e-7b5f-48e9-a08e-b72de458b909",
   "metadata": {},
   "outputs": [],
   "source": [
    "import pandas as pd\n",
    "import matplotlib.pyplot as plt\n",
    "import tensorflow as tf\n",
    "import seaborn as sns\n",
    "import plotly.express as px\n",
    "import tensorflow as tf\n",
    "import sklearn\n",
    "import numpy as np\n",
    "\n",
    "from sklearn import linear_model\n",
    "from sklearn.ensemble import RandomForestRegressor, GradientBoostingRegressor\n",
    "from sklearn.linear_model import LinearRegression, Ridge, Lasso\n",
    "from sklearn.metrics import mean_squared_error, r2_score, mean_absolute_percentage_error, mean_absolute_error\n",
    "from sklearn.model_selection import train_test_split, GridSearchCV\n",
    "from sklearn.neighbors import KNeighborsRegressor\n",
    "from sklearn.neural_network import MLPRegressor\n",
    "from sklearn.pipeline import make_pipeline, Pipeline\n",
    "from sklearn import preprocessing\n",
    "from sklearn.preprocessing import Normalizer, LabelEncoder, MinMaxScaler, StandardScaler, PowerTransformer\n",
    "from sklearn.svm import SVR\n",
    "from sklearn.tree import DecisionTreeRegressor\n",
    "from sklearn.metrics import accuracy_score, confusion_matrix\n",
    "\n",
    "from tensorflow import keras as keras\n",
    "from tensorflow.keras import layers\n",
    "from tensorflow.keras.layers import Dense, Flatten, Dropout, BatchNormalization, Activation\n",
    "from pandas import read_excel, DataFrame, Series\n",
    "from keras.wrappers.scikit_learn import KerasClassifier, KerasRegressor\n",
    "from tensorflow.keras.models import Sequential\n",
    "from numpy.random import seed\n",
    "%config InlineBackend.figure_format = 'retina'"
   ]
  },
  {
   "cell_type": "code",
   "execution_count": 4,
   "id": "99d5c0c9-4664-464d-b261-edf3d10bf714",
   "metadata": {},
   "outputs": [
    {
     "data": {
      "text/html": [
       "<div>\n",
       "<style scoped>\n",
       "    .dataframe tbody tr th:only-of-type {\n",
       "        vertical-align: middle;\n",
       "    }\n",
       "\n",
       "    .dataframe tbody tr th {\n",
       "        vertical-align: top;\n",
       "    }\n",
       "\n",
       "    .dataframe thead th {\n",
       "        text-align: right;\n",
       "    }\n",
       "</style>\n",
       "<table border=\"1\" class=\"dataframe\">\n",
       "  <thead>\n",
       "    <tr style=\"text-align: right;\">\n",
       "      <th></th>\n",
       "      <th>Соотношение матрица-наполнитель</th>\n",
       "      <th>Плотность, кг/м3</th>\n",
       "      <th>модуль упругости, ГПа</th>\n",
       "      <th>Количество отвердителя, м.%</th>\n",
       "      <th>Содержание эпоксидных групп,%_2</th>\n",
       "      <th>Температура вспышки, С_2</th>\n",
       "      <th>Поверхностная плотность, г/м2</th>\n",
       "      <th>Модуль упругости при растяжении, ГПа</th>\n",
       "      <th>Прочность при растяжении, МПа</th>\n",
       "      <th>Потребление смолы, г/м2</th>\n",
       "      <th>Угол нашивки, град</th>\n",
       "      <th>Шаг нашивки</th>\n",
       "      <th>Плотность нашивки</th>\n",
       "    </tr>\n",
       "  </thead>\n",
       "  <tbody>\n",
       "    <tr>\n",
       "      <th>0</th>\n",
       "      <td>0.274768</td>\n",
       "      <td>0.651097</td>\n",
       "      <td>0.452951</td>\n",
       "      <td>0.079153</td>\n",
       "      <td>0.607435</td>\n",
       "      <td>0.509164</td>\n",
       "      <td>0.162230</td>\n",
       "      <td>0.272962</td>\n",
       "      <td>0.727777</td>\n",
       "      <td>0.514688</td>\n",
       "      <td>0</td>\n",
       "      <td>0.289334</td>\n",
       "      <td>0.546433</td>\n",
       "    </tr>\n",
       "    <tr>\n",
       "      <th>1</th>\n",
       "      <td>0.274768</td>\n",
       "      <td>0.651097</td>\n",
       "      <td>0.452951</td>\n",
       "      <td>0.630983</td>\n",
       "      <td>0.418887</td>\n",
       "      <td>0.583596</td>\n",
       "      <td>0.162230</td>\n",
       "      <td>0.272962</td>\n",
       "      <td>0.727777</td>\n",
       "      <td>0.514688</td>\n",
       "      <td>0</td>\n",
       "      <td>0.362355</td>\n",
       "      <td>0.319758</td>\n",
       "    </tr>\n",
       "    <tr>\n",
       "      <th>2</th>\n",
       "      <td>0.466552</td>\n",
       "      <td>0.651097</td>\n",
       "      <td>0.461725</td>\n",
       "      <td>0.511257</td>\n",
       "      <td>0.495653</td>\n",
       "      <td>0.509164</td>\n",
       "      <td>0.162230</td>\n",
       "      <td>0.272962</td>\n",
       "      <td>0.727777</td>\n",
       "      <td>0.514688</td>\n",
       "      <td>0</td>\n",
       "      <td>0.362355</td>\n",
       "      <td>0.494123</td>\n",
       "    </tr>\n",
       "    <tr>\n",
       "      <th>3</th>\n",
       "      <td>0.465836</td>\n",
       "      <td>0.571539</td>\n",
       "      <td>0.458649</td>\n",
       "      <td>0.511257</td>\n",
       "      <td>0.495653</td>\n",
       "      <td>0.509164</td>\n",
       "      <td>0.162230</td>\n",
       "      <td>0.272962</td>\n",
       "      <td>0.727777</td>\n",
       "      <td>0.514688</td>\n",
       "      <td>0</td>\n",
       "      <td>0.362355</td>\n",
       "      <td>0.546433</td>\n",
       "    </tr>\n",
       "    <tr>\n",
       "      <th>4</th>\n",
       "      <td>0.424236</td>\n",
       "      <td>0.332865</td>\n",
       "      <td>0.494944</td>\n",
       "      <td>0.511257</td>\n",
       "      <td>0.495653</td>\n",
       "      <td>0.509164</td>\n",
       "      <td>0.162230</td>\n",
       "      <td>0.272962</td>\n",
       "      <td>0.727777</td>\n",
       "      <td>0.514688</td>\n",
       "      <td>0</td>\n",
       "      <td>0.362355</td>\n",
       "      <td>0.720799</td>\n",
       "    </tr>\n",
       "    <tr>\n",
       "      <th>...</th>\n",
       "      <td>...</td>\n",
       "      <td>...</td>\n",
       "      <td>...</td>\n",
       "      <td>...</td>\n",
       "      <td>...</td>\n",
       "      <td>...</td>\n",
       "      <td>...</td>\n",
       "      <td>...</td>\n",
       "      <td>...</td>\n",
       "      <td>...</td>\n",
       "      <td>...</td>\n",
       "      <td>...</td>\n",
       "      <td>...</td>\n",
       "    </tr>\n",
       "    <tr>\n",
       "      <th>917</th>\n",
       "      <td>0.361662</td>\n",
       "      <td>0.444480</td>\n",
       "      <td>0.560064</td>\n",
       "      <td>0.337550</td>\n",
       "      <td>0.333908</td>\n",
       "      <td>0.703458</td>\n",
       "      <td>0.161609</td>\n",
       "      <td>0.473553</td>\n",
       "      <td>0.472912</td>\n",
       "      <td>0.183151</td>\n",
       "      <td>1</td>\n",
       "      <td>0.660014</td>\n",
       "      <td>0.320103</td>\n",
       "    </tr>\n",
       "    <tr>\n",
       "      <th>918</th>\n",
       "      <td>0.607674</td>\n",
       "      <td>0.704373</td>\n",
       "      <td>0.272088</td>\n",
       "      <td>0.749605</td>\n",
       "      <td>0.294428</td>\n",
       "      <td>0.362087</td>\n",
       "      <td>0.271207</td>\n",
       "      <td>0.462512</td>\n",
       "      <td>0.461722</td>\n",
       "      <td>0.157752</td>\n",
       "      <td>1</td>\n",
       "      <td>0.768759</td>\n",
       "      <td>0.437468</td>\n",
       "    </tr>\n",
       "    <tr>\n",
       "      <th>919</th>\n",
       "      <td>0.573391</td>\n",
       "      <td>0.498274</td>\n",
       "      <td>0.254927</td>\n",
       "      <td>0.501991</td>\n",
       "      <td>0.623085</td>\n",
       "      <td>0.334063</td>\n",
       "      <td>0.572959</td>\n",
       "      <td>0.580201</td>\n",
       "      <td>0.587558</td>\n",
       "      <td>0.572648</td>\n",
       "      <td>1</td>\n",
       "      <td>0.301102</td>\n",
       "      <td>0.679468</td>\n",
       "    </tr>\n",
       "    <tr>\n",
       "      <th>920</th>\n",
       "      <td>0.662497</td>\n",
       "      <td>0.748688</td>\n",
       "      <td>0.454635</td>\n",
       "      <td>0.717585</td>\n",
       "      <td>0.267818</td>\n",
       "      <td>0.466417</td>\n",
       "      <td>0.496511</td>\n",
       "      <td>0.535317</td>\n",
       "      <td>0.341643</td>\n",
       "      <td>0.434855</td>\n",
       "      <td>1</td>\n",
       "      <td>0.458245</td>\n",
       "      <td>0.516112</td>\n",
       "    </tr>\n",
       "    <tr>\n",
       "      <th>921</th>\n",
       "      <td>0.684036</td>\n",
       "      <td>0.280923</td>\n",
       "      <td>0.255222</td>\n",
       "      <td>0.632264</td>\n",
       "      <td>0.888354</td>\n",
       "      <td>0.588206</td>\n",
       "      <td>0.587373</td>\n",
       "      <td>0.552644</td>\n",
       "      <td>0.668015</td>\n",
       "      <td>0.426577</td>\n",
       "      <td>1</td>\n",
       "      <td>0.441137</td>\n",
       "      <td>0.850430</td>\n",
       "    </tr>\n",
       "  </tbody>\n",
       "</table>\n",
       "<p>922 rows × 13 columns</p>\n",
       "</div>"
      ],
      "text/plain": [
       "     Соотношение матрица-наполнитель  Плотность, кг/м3  модуль упругости, ГПа  \\\n",
       "0                           0.274768          0.651097               0.452951   \n",
       "1                           0.274768          0.651097               0.452951   \n",
       "2                           0.466552          0.651097               0.461725   \n",
       "3                           0.465836          0.571539               0.458649   \n",
       "4                           0.424236          0.332865               0.494944   \n",
       "..                               ...               ...                    ...   \n",
       "917                         0.361662          0.444480               0.560064   \n",
       "918                         0.607674          0.704373               0.272088   \n",
       "919                         0.573391          0.498274               0.254927   \n",
       "920                         0.662497          0.748688               0.454635   \n",
       "921                         0.684036          0.280923               0.255222   \n",
       "\n",
       "     Количество отвердителя, м.%  Содержание эпоксидных групп,%_2  \\\n",
       "0                       0.079153                         0.607435   \n",
       "1                       0.630983                         0.418887   \n",
       "2                       0.511257                         0.495653   \n",
       "3                       0.511257                         0.495653   \n",
       "4                       0.511257                         0.495653   \n",
       "..                           ...                              ...   \n",
       "917                     0.337550                         0.333908   \n",
       "918                     0.749605                         0.294428   \n",
       "919                     0.501991                         0.623085   \n",
       "920                     0.717585                         0.267818   \n",
       "921                     0.632264                         0.888354   \n",
       "\n",
       "     Температура вспышки, С_2  Поверхностная плотность, г/м2  \\\n",
       "0                    0.509164                       0.162230   \n",
       "1                    0.583596                       0.162230   \n",
       "2                    0.509164                       0.162230   \n",
       "3                    0.509164                       0.162230   \n",
       "4                    0.509164                       0.162230   \n",
       "..                        ...                            ...   \n",
       "917                  0.703458                       0.161609   \n",
       "918                  0.362087                       0.271207   \n",
       "919                  0.334063                       0.572959   \n",
       "920                  0.466417                       0.496511   \n",
       "921                  0.588206                       0.587373   \n",
       "\n",
       "     Модуль упругости при растяжении, ГПа  Прочность при растяжении, МПа  \\\n",
       "0                                0.272962                       0.727777   \n",
       "1                                0.272962                       0.727777   \n",
       "2                                0.272962                       0.727777   \n",
       "3                                0.272962                       0.727777   \n",
       "4                                0.272962                       0.727777   \n",
       "..                                    ...                            ...   \n",
       "917                              0.473553                       0.472912   \n",
       "918                              0.462512                       0.461722   \n",
       "919                              0.580201                       0.587558   \n",
       "920                              0.535317                       0.341643   \n",
       "921                              0.552644                       0.668015   \n",
       "\n",
       "     Потребление смолы, г/м2  Угол нашивки, град  Шаг нашивки  \\\n",
       "0                   0.514688                   0     0.289334   \n",
       "1                   0.514688                   0     0.362355   \n",
       "2                   0.514688                   0     0.362355   \n",
       "3                   0.514688                   0     0.362355   \n",
       "4                   0.514688                   0     0.362355   \n",
       "..                       ...                 ...          ...   \n",
       "917                 0.183151                   1     0.660014   \n",
       "918                 0.157752                   1     0.768759   \n",
       "919                 0.572648                   1     0.301102   \n",
       "920                 0.434855                   1     0.458245   \n",
       "921                 0.426577                   1     0.441137   \n",
       "\n",
       "     Плотность нашивки  \n",
       "0             0.546433  \n",
       "1             0.319758  \n",
       "2             0.494123  \n",
       "3             0.546433  \n",
       "4             0.720799  \n",
       "..                 ...  \n",
       "917           0.320103  \n",
       "918           0.437468  \n",
       "919           0.679468  \n",
       "920           0.516112  \n",
       "921           0.850430  \n",
       "\n",
       "[922 rows x 13 columns]"
      ]
     },
     "execution_count": 4,
     "metadata": {},
     "output_type": "execute_result"
    }
   ],
   "source": [
    "df_good = pd.read_excel(\"D:\\\\data science\\вкр\\ВКР_композиты\\df.xlsx\")\n",
    "df_good.drop(['Unnamed: 0'], axis = 1)"
   ]
  },
  {
   "cell_type": "code",
   "execution_count": 5,
   "id": "9840d89a-ee59-487d-ac7a-250c16678aa6",
   "metadata": {},
   "outputs": [],
   "source": [
    "X = df_good[['Соотношение матрица-наполнитель', 'Плотность, кг/м3',\n",
    "                  'модуль упругости, ГПа', 'Количество отвердителя, м.%',\n",
    "                  'Содержание эпоксидных групп,%_2', 'Температура вспышки, С_2',\n",
    "                  'Поверхностная плотность, г/м2',\n",
    "                  'Потребление смолы, г/м2', 'Угол нашивки, град',\n",
    "                  'Шаг нашивки', 'Плотность нашивки']]\n",
    "\n",
    "y_1 = df_good['Модуль упругости при растяжении, ГПа']\n",
    "y_2 = df_good['Прочность при растяжении, МПа']"
   ]
  },
  {
   "cell_type": "code",
   "execution_count": 6,
   "id": "bf641179-2a98-4c7c-95ac-b38afdefb8f5",
   "metadata": {},
   "outputs": [
    {
     "data": {
      "text/plain": [
       "((922, 11), (922,), (922,))"
      ]
     },
     "execution_count": 6,
     "metadata": {},
     "output_type": "execute_result"
    }
   ],
   "source": [
    "X.shape, y_1.shape, y_2.shape"
   ]
  },
  {
   "cell_type": "code",
   "execution_count": 6,
   "id": "154cab02-2d5e-4416-a5ae-94594a0fbd4a",
   "metadata": {},
   "outputs": [],
   "source": [
    "#Модуль упругости"
   ]
  },
  {
   "cell_type": "code",
   "execution_count": 46,
   "id": "fe3317c7-34f6-4da5-9c79-bd993d0d234f",
   "metadata": {},
   "outputs": [],
   "source": [
    "# Делим данные на тренировочную и тестовую выборки"
   ]
  },
  {
   "cell_type": "code",
   "execution_count": 27,
   "id": "741047bb-7010-497b-a939-7c0743cc2c87",
   "metadata": {},
   "outputs": [],
   "source": [
    "X_train, X_test, y_train, y_test = train_test_split(X, y_1,\n",
    "                                                    test_size=0.3,\n",
    "                                                    shuffle=True,\n",
    "                                                    random_state=42)"
   ]
  },
  {
   "cell_type": "code",
   "execution_count": null,
   "id": "94f58286-1715-4a49-9a4f-c7f7f6e331f7",
   "metadata": {},
   "outputs": [],
   "source": [
    "# Создаем модели для предсказания значений параметра \"Модуль упругости\""
   ]
  },
  {
   "cell_type": "code",
   "execution_count": 41,
   "id": "3541cf4c-3c93-4591-8db1-09e20990e1b0",
   "metadata": {},
   "outputs": [],
   "source": [
    "# LinearRegression"
   ]
  },
  {
   "cell_type": "code",
   "execution_count": 18,
   "id": "32be9041-bf75-4d55-b0b9-ace8636aab27",
   "metadata": {},
   "outputs": [
    {
     "name": "stdout",
     "output_type": "stream",
     "text": [
      "Модуль упругости при растяжении\n",
      "Лучшие найденные параметры: LinearRegression(fit_intercept='True')\n",
      "MAE: 0.16944\n",
      "MSE: 0.04276\n",
      "R2: -0.02448\n"
     ]
    }
   ],
   "source": [
    "LR_params = { 'fit_intercept' : ['True', 'False']}\n",
    "LR_model = GridSearchCV(LinearRegression(), LR_params, cv=10)\n",
    "LR_model.fit(X = X_train,\n",
    "              y = y_train)\n",
    "\n",
    "prediction = LR_model.best_estimator_.predict(X_test)\n",
    "score = mean_absolute_error(prediction, y_test)\n",
    "score_2 = mean_squared_error(prediction, y_test)\n",
    "score_3 = LR_model.score(X_test, y_test) \n",
    "\n",
    "print('Модуль упругости при растяжении')\n",
    "print(f'Лучшие найденные параметры: {LR_model.best_estimator_}')\n",
    "print(f'MAE: {round(score, 5)}')\n",
    "print(f'MSE: {round(score_2, 5)}')\n",
    "print(f'R2: {round(score_3, 5)}')"
   ]
  },
  {
   "cell_type": "code",
   "execution_count": 42,
   "id": "fd067c40-2df9-474d-bd82-0b23599edd18",
   "metadata": {},
   "outputs": [],
   "source": [
    "# Ridge"
   ]
  },
  {
   "cell_type": "code",
   "execution_count": 33,
   "id": "6f77cf5a-bf13-4e65-8206-a758512b6dd9",
   "metadata": {},
   "outputs": [
    {
     "name": "stdout",
     "output_type": "stream",
     "text": [
      "Модуль упругости при растяжении\n",
      "Лучшие найденные параметры: Ridge(alpha=5)\n",
      "MAE: 0.16915\n",
      "MSE: 0.04263\n",
      "R2: -0.02151\n"
     ]
    }
   ],
   "source": [
    "Ridge_params = { 'alpha': [0.001, 0.005, 0.01, 0.05, 0.095, 0.1, 0.150, 0.2, 0.5, 1, 5]}\n",
    "Ridge_model = GridSearchCV(Ridge(), Ridge_params, cv=10)\n",
    "Ridge_model.fit(X = X_train,\n",
    "              y = y_train)\n",
    "\n",
    "prediction = Ridge_model.best_estimator_.predict(X_test)\n",
    "score = mean_absolute_error(prediction, y_test)\n",
    "score_2 = mean_squared_error(prediction, y_test)\n",
    "score_3 = Ridge_model.score(X_test, y_test) \n",
    "\n",
    "print('Модуль упругости при растяжении')\n",
    "print(f'Лучшие найденные параметры: {Ridge_model.best_estimator_}')\n",
    "print(f'MAE: {round(score, 5)}')\n",
    "print(f'MSE: {round(score_2, 5)}')\n",
    "print(f'R2: {round(score_3, 5)}')"
   ]
  },
  {
   "cell_type": "code",
   "execution_count": 43,
   "id": "de50f1fe-f014-4b9c-b822-7e8771d0049b",
   "metadata": {},
   "outputs": [],
   "source": [
    "# Lasso"
   ]
  },
  {
   "cell_type": "code",
   "execution_count": 31,
   "id": "423392ec-3607-40dc-baa1-4b61b6142bc9",
   "metadata": {},
   "outputs": [
    {
     "name": "stdout",
     "output_type": "stream",
     "text": [
      "Модуль упругости при растяжении\n",
      "Лучшие найденные параметры: Lasso(alpha=0.005)\n",
      "MAE: 0.16762\n",
      "MSE: 0.04215\n",
      "R2: -0.00986\n"
     ]
    }
   ],
   "source": [
    "Lasso_params = { 'alpha': [0.001, 0.005, 0.01, 0.05, 0.095, 0.1, 0.150, 0.2, 0.5, 1, 5]}\n",
    "Lasso_model = GridSearchCV(Lasso(), Lasso_params, cv=10)\n",
    "Lasso_model.fit(X = X_train,\n",
    "              y = y_train)\n",
    "\n",
    "prediction = Lasso_model.best_estimator_.predict(X_test)\n",
    "score = mean_absolute_error(prediction, y_test)\n",
    "score_2 = mean_squared_error(prediction, y_test)\n",
    "score_3 = Lasso_model.score(X_test, y_test) \n",
    "\n",
    "print('Модуль упругости при растяжении')\n",
    "print(f'Лучшие найденные параметры: {Lasso_model.best_estimator_}')\n",
    "print(f'MAE: {round(score, 5)}')\n",
    "print(f'MSE: {round(score_2, 5)}')\n",
    "print(f'R2: {round(score_3, 5)}')"
   ]
  },
  {
   "cell_type": "code",
   "execution_count": 44,
   "id": "b19b6b12-9cc6-4f4d-ac29-4c6d3da1aa00",
   "metadata": {},
   "outputs": [],
   "source": [
    "# RandomForestRegressor"
   ]
  },
  {
   "cell_type": "code",
   "execution_count": 14,
   "id": "f0028deb-66d1-4465-a3eb-3ee4457c282d",
   "metadata": {},
   "outputs": [
    {
     "name": "stdout",
     "output_type": "stream",
     "text": [
      "Модуль упругости при растяжении\n",
      "Лучшие найденные параметры: RandomForestRegressor(max_depth=5, max_features='log2', n_estimators=40)\n",
      "MAE: 0.16773\n",
      "MSE: 0.04261\n",
      "R2: -0.0209\n"
     ]
    }
   ],
   "source": [
    "RF_params = {\n",
    "   'n_estimators': [20, 40, 60],\n",
    "   'max_features': ['auto', 'sqrt', 'log2'],\n",
    "   'max_depth' : [3,4,5,6]\n",
    "}\n",
    "RF_model = GridSearchCV(RandomForestRegressor(), RF_params, cv=10)\n",
    "RF_model.fit(X = X_train,\n",
    "              y = y_train)\n",
    "\n",
    "prediction = RF_model.best_estimator_.predict(X_test)\n",
    "score = mean_absolute_error(prediction, y_test)\n",
    "score_2 = mean_squared_error(prediction, y_test)\n",
    "score_3 = RF_model.score (X_test, y_test)\n",
    "\n",
    "print('Модуль упругости при растяжении')\n",
    "print(f'Лучшие найденные параметры: {RF_model.best_estimator_}')\n",
    "print(f'MAE: {round(score, 5)}')\n",
    "print(f'MSE: {round(score_2, 5)}')\n",
    "print(f'R2: {round(score_3, 5)}')"
   ]
  },
  {
   "cell_type": "code",
   "execution_count": 45,
   "id": "dfd113b3-b52b-40c4-86bf-b3748dd025de",
   "metadata": {},
   "outputs": [],
   "source": [
    "# GradientBoostingRegressor"
   ]
  },
  {
   "cell_type": "code",
   "execution_count": 26,
   "id": "efb8c501-645a-40a1-8b46-c93237207bb9",
   "metadata": {},
   "outputs": [
    {
     "name": "stdout",
     "output_type": "stream",
     "text": [
      "Модуль упругости при растяжении\n",
      "Лучшие найденные параметры: GradientBoostingRegressor(learning_rate=0.004, max_depth=5, max_features='sqrt')\n",
      "MAE: 0.1536\n",
      "MSE: 0.03705\n",
      "R2: -0.00042\n"
     ]
    }
   ],
   "source": [
    "GB_params = {\n",
    "    'learning_rate': np.arange(0.001, 0.1, 0.003),\n",
    "    'max_depth': np.arange(1, 12, 2),\n",
    "    'max_features':['log2','sqrt'],    \n",
    "          }\n",
    "GB_model = GridSearchCV(GradientBoostingRegressor(), GB_params, cv=10)\n",
    "GB_model.fit(X = X_train,\n",
    "              y = y_train)\n",
    "\n",
    "prediction = GB_model.best_estimator_.predict(X_test)\n",
    "score = mean_absolute_error(prediction, y_test)\n",
    "score_2 = mean_squared_error(prediction, y_test)\n",
    "score_3 = GB_model.score (X_test, y_test)\n",
    "\n",
    "print('Модуль упругости при растяжении')\n",
    "print(f'Лучшие найденные параметры: {GB_model.best_estimator_}')\n",
    "print(f'MAE: {round(score, 5)}')\n",
    "print(f'MSE: {round(score_2, 5)}')\n",
    "print(f'R2: {round(score_3, 5)}')"
   ]
  },
  {
   "cell_type": "code",
   "execution_count": 36,
   "id": "9ed8aed6-fd46-44dc-b549-76a651d347ea",
   "metadata": {},
   "outputs": [],
   "source": [
    "#Прочность при растяжении"
   ]
  },
  {
   "cell_type": "code",
   "execution_count": 47,
   "id": "a3eb13f4-ed0e-4636-afa9-dec9fafeee63",
   "metadata": {},
   "outputs": [],
   "source": [
    "# Делим данные на тренировочную и тестовую выборки"
   ]
  },
  {
   "cell_type": "code",
   "execution_count": 34,
   "id": "9241819e-d670-43be-b5db-dd6b4f103841",
   "metadata": {},
   "outputs": [],
   "source": [
    "X_train, X_test, y_train, y_test = train_test_split(X, y_2,\n",
    "                                                    test_size=0.3,\n",
    "                                                    shuffle=True,\n",
    "                                                    random_state=42)"
   ]
  },
  {
   "cell_type": "code",
   "execution_count": 48,
   "id": "cae38402-f1e6-46e7-8812-7844a8bfed62",
   "metadata": {},
   "outputs": [],
   "source": [
    "# LinearRegression"
   ]
  },
  {
   "cell_type": "code",
   "execution_count": 23,
   "id": "b1580778-1bf1-4e3e-9745-c76e2c2a6553",
   "metadata": {},
   "outputs": [
    {
     "name": "stdout",
     "output_type": "stream",
     "text": [
      "Прочность при растяжении\n",
      "Лучшие найденные параметры: LinearRegression(fit_intercept='True')\n",
      "MAE: 0.15476\n",
      "MSE: 0.03717\n",
      "R2: -0.00353\n"
     ]
    }
   ],
   "source": [
    "LR_params = { 'fit_intercept' : ['True', 'False']}\n",
    "LR_model = GridSearchCV(LinearRegression(), LR_params, cv=10)\n",
    "LR_model.fit(X = X_train,\n",
    "              y = y_train)\n",
    "\n",
    "prediction = LR_model.best_estimator_.predict(X_test)\n",
    "score = mean_absolute_error(prediction, y_test)\n",
    "score_2 = mean_squared_error(prediction, y_test)\n",
    "score_3 = LR_model.score(X_test, y_test)\n",
    "\n",
    "print('Прочность при растяжении')\n",
    "print(f'Лучшие найденные параметры: {LR_model.best_estimator_}')\n",
    "print(f'MAE: {round(score, 5)}')\n",
    "print(f'MSE: {round(score_2, 5)}')\n",
    "print(f'R2: {round(score_3, 5)}')"
   ]
  },
  {
   "cell_type": "code",
   "execution_count": 49,
   "id": "15a95890-16ca-4517-bc1e-06ad5da3d989",
   "metadata": {},
   "outputs": [],
   "source": [
    "# Ridge"
   ]
  },
  {
   "cell_type": "code",
   "execution_count": 38,
   "id": "2176f845-8295-4b58-8056-9f2212564ad1",
   "metadata": {},
   "outputs": [
    {
     "name": "stdout",
     "output_type": "stream",
     "text": [
      "Прочность при растяжении\n",
      "Лучшие найденные параметры: Ridge(alpha=5)\n",
      "MAE: 0.15432\n",
      "MSE: 0.03709\n",
      "R2: -0.00141\n"
     ]
    }
   ],
   "source": [
    "Ridge_params = { 'alpha': [0.001, 0.005, 0.01, 0.05, 0.095, 0.1, 0.150, 0.2, 0.5, 1, 5]}\n",
    "Ridge_model = GridSearchCV(Ridge(), Ridge_params, cv=10)\n",
    "Ridge_model.fit(X = X_train,\n",
    "              y = y_train)\n",
    "\n",
    "prediction = Ridge_model.best_estimator_.predict(X_test)\n",
    "score = mean_absolute_error(prediction, y_test)\n",
    "score_2 = mean_squared_error(prediction, y_test)\n",
    "score_3 = Ridge_model.score(X_test, y_test) \n",
    "\n",
    "print('Прочность при растяжении')\n",
    "print(f'Лучшие найденные параметры: {Ridge_model.best_estimator_}')\n",
    "print(f'MAE: {round(score, 5)}')\n",
    "print(f'MSE: {round(score_2, 5)}')\n",
    "print(f'R2: {round(score_3, 5)}')"
   ]
  },
  {
   "cell_type": "code",
   "execution_count": 50,
   "id": "63422079-29dd-44b8-90ea-f91033f7ac79",
   "metadata": {},
   "outputs": [],
   "source": [
    "# Lasso"
   ]
  },
  {
   "cell_type": "code",
   "execution_count": 40,
   "id": "aa66ec8a-f981-40b9-bbfc-3f43d9969053",
   "metadata": {},
   "outputs": [
    {
     "name": "stdout",
     "output_type": "stream",
     "text": [
      "Прочность при растяжении\n",
      "Лучшие найденные параметры: Lasso(alpha=0.005)\n",
      "MAE: 0.15344\n",
      "MSE: 0.03704\n",
      "R2: -6e-05\n"
     ]
    }
   ],
   "source": [
    "Lasso_params = { 'alpha': [0.001, 0.005, 0.01, 0.05, 0.095, 0.1, 0.150, 0.2, 0.5, 1, 5]}\n",
    "Lasso_model = GridSearchCV(Lasso(), Lasso_params, cv=10)\n",
    "Lasso_model.fit(X = X_train,\n",
    "              y = y_train)\n",
    "\n",
    "prediction = Lasso_model.best_estimator_.predict(X_test)\n",
    "score = mean_absolute_error(prediction, y_test)\n",
    "score_2 = mean_squared_error(prediction, y_test)\n",
    "score_3 = Lasso_model.score(X_test, y_test) \n",
    "\n",
    "print('Прочность при растяжении')\n",
    "print(f'Лучшие найденные параметры: {Lasso_model.best_estimator_}')\n",
    "print(f'MAE: {round(score, 5)}')\n",
    "print(f'MSE: {round(score_2, 5)}')\n",
    "print(f'R2: {round(score_3, 5)}')"
   ]
  },
  {
   "cell_type": "code",
   "execution_count": 51,
   "id": "7f6d8d42-a554-461a-a2ef-77838078ea0a",
   "metadata": {},
   "outputs": [],
   "source": [
    "# RandomForestRegressor"
   ]
  },
  {
   "cell_type": "code",
   "execution_count": 25,
   "id": "6c627d16-f85e-4a1c-8dc0-3e611a9b7c34",
   "metadata": {},
   "outputs": [
    {
     "name": "stdout",
     "output_type": "stream",
     "text": [
      "Прочность при растяжении\n",
      "Лучшие найденные параметры: RandomForestRegressor(max_depth=3, max_features='sqrt', n_estimators=60)\n",
      "MAE: 0.15438\n",
      "MSE: 0.03717\n",
      "R2: -0.00356\n"
     ]
    }
   ],
   "source": [
    "RF_params = {\n",
    "   'n_estimators': [20, 40, 60],\n",
    "   'max_features': ['auto', 'sqrt', 'log2'],\n",
    "   'max_depth' : [3,4,5,6]\n",
    "}\n",
    "RF_model = GridSearchCV(RandomForestRegressor(), RF_params, cv=10)\n",
    "RF_model.fit(X = X_train,\n",
    "              y = y_train)\n",
    "\n",
    "prediction = RF_model.best_estimator_.predict(X_test)\n",
    "score = mean_absolute_error(prediction, y_test)\n",
    "score_2 = mean_squared_error(prediction, y_test)\n",
    "score_3 = RF_model.score(X_test, y_test)\n",
    "\n",
    "print('Прочность при растяжении')\n",
    "print(f'Лучшие найденные параметры: {RF_model.best_estimator_}')\n",
    "print(f'MAE: {round(score, 5)}')\n",
    "print(f'MSE: {round(score_2, 5)}')\n",
    "print(f'R2: {round(score_3, 5)}')"
   ]
  },
  {
   "cell_type": "code",
   "execution_count": 20,
   "id": "69270b13-a6c7-467e-ae1e-b3619daa004e",
   "metadata": {},
   "outputs": [
    {
     "ename": "KeyboardInterrupt",
     "evalue": "",
     "output_type": "error",
     "traceback": [
      "\u001b[1;31m---------------------------------------------------------------------------\u001b[0m",
      "\u001b[1;31mKeyboardInterrupt\u001b[0m                         Traceback (most recent call last)",
      "\u001b[1;32m~\\AppData\\Local\\Temp\\ipykernel_9208\\287821836.py\u001b[0m in \u001b[0;36m<module>\u001b[1;34m\u001b[0m\n\u001b[0;32m      5\u001b[0m           }\n\u001b[0;32m      6\u001b[0m \u001b[0mGB_model\u001b[0m \u001b[1;33m=\u001b[0m \u001b[0mGridSearchCV\u001b[0m\u001b[1;33m(\u001b[0m\u001b[0mGradientBoostingRegressor\u001b[0m\u001b[1;33m(\u001b[0m\u001b[1;33m)\u001b[0m\u001b[1;33m,\u001b[0m \u001b[0mGB_params\u001b[0m\u001b[1;33m,\u001b[0m \u001b[0mcv\u001b[0m\u001b[1;33m=\u001b[0m\u001b[1;36m10\u001b[0m\u001b[1;33m)\u001b[0m\u001b[1;33m\u001b[0m\u001b[1;33m\u001b[0m\u001b[0m\n\u001b[1;32m----> 7\u001b[1;33m GB_model.fit(X = X_train,\n\u001b[0m\u001b[0;32m      8\u001b[0m               y = y_train)\n\u001b[0;32m      9\u001b[0m \u001b[1;33m\u001b[0m\u001b[0m\n",
      "\u001b[1;32m~\\anaconda3\\lib\\site-packages\\sklearn\\model_selection\\_search.py\u001b[0m in \u001b[0;36mfit\u001b[1;34m(self, X, y, groups, **fit_params)\u001b[0m\n\u001b[0;32m    889\u001b[0m                 \u001b[1;32mreturn\u001b[0m \u001b[0mresults\u001b[0m\u001b[1;33m\u001b[0m\u001b[1;33m\u001b[0m\u001b[0m\n\u001b[0;32m    890\u001b[0m \u001b[1;33m\u001b[0m\u001b[0m\n\u001b[1;32m--> 891\u001b[1;33m             \u001b[0mself\u001b[0m\u001b[1;33m.\u001b[0m\u001b[0m_run_search\u001b[0m\u001b[1;33m(\u001b[0m\u001b[0mevaluate_candidates\u001b[0m\u001b[1;33m)\u001b[0m\u001b[1;33m\u001b[0m\u001b[1;33m\u001b[0m\u001b[0m\n\u001b[0m\u001b[0;32m    892\u001b[0m \u001b[1;33m\u001b[0m\u001b[0m\n\u001b[0;32m    893\u001b[0m             \u001b[1;31m# multimetric is determined here because in the case of a callable\u001b[0m\u001b[1;33m\u001b[0m\u001b[1;33m\u001b[0m\u001b[0m\n",
      "\u001b[1;32m~\\anaconda3\\lib\\site-packages\\sklearn\\model_selection\\_search.py\u001b[0m in \u001b[0;36m_run_search\u001b[1;34m(self, evaluate_candidates)\u001b[0m\n\u001b[0;32m   1390\u001b[0m     \u001b[1;32mdef\u001b[0m \u001b[0m_run_search\u001b[0m\u001b[1;33m(\u001b[0m\u001b[0mself\u001b[0m\u001b[1;33m,\u001b[0m \u001b[0mevaluate_candidates\u001b[0m\u001b[1;33m)\u001b[0m\u001b[1;33m:\u001b[0m\u001b[1;33m\u001b[0m\u001b[1;33m\u001b[0m\u001b[0m\n\u001b[0;32m   1391\u001b[0m         \u001b[1;34m\"\"\"Search all candidates in param_grid\"\"\"\u001b[0m\u001b[1;33m\u001b[0m\u001b[1;33m\u001b[0m\u001b[0m\n\u001b[1;32m-> 1392\u001b[1;33m         \u001b[0mevaluate_candidates\u001b[0m\u001b[1;33m(\u001b[0m\u001b[0mParameterGrid\u001b[0m\u001b[1;33m(\u001b[0m\u001b[0mself\u001b[0m\u001b[1;33m.\u001b[0m\u001b[0mparam_grid\u001b[0m\u001b[1;33m)\u001b[0m\u001b[1;33m)\u001b[0m\u001b[1;33m\u001b[0m\u001b[1;33m\u001b[0m\u001b[0m\n\u001b[0m\u001b[0;32m   1393\u001b[0m \u001b[1;33m\u001b[0m\u001b[0m\n\u001b[0;32m   1394\u001b[0m \u001b[1;33m\u001b[0m\u001b[0m\n",
      "\u001b[1;32m~\\anaconda3\\lib\\site-packages\\sklearn\\model_selection\\_search.py\u001b[0m in \u001b[0;36mevaluate_candidates\u001b[1;34m(candidate_params, cv, more_results)\u001b[0m\n\u001b[0;32m    836\u001b[0m                     )\n\u001b[0;32m    837\u001b[0m \u001b[1;33m\u001b[0m\u001b[0m\n\u001b[1;32m--> 838\u001b[1;33m                 out = parallel(\n\u001b[0m\u001b[0;32m    839\u001b[0m                     delayed(_fit_and_score)(\n\u001b[0;32m    840\u001b[0m                         \u001b[0mclone\u001b[0m\u001b[1;33m(\u001b[0m\u001b[0mbase_estimator\u001b[0m\u001b[1;33m)\u001b[0m\u001b[1;33m,\u001b[0m\u001b[1;33m\u001b[0m\u001b[1;33m\u001b[0m\u001b[0m\n",
      "\u001b[1;32m~\\anaconda3\\lib\\site-packages\\joblib\\parallel.py\u001b[0m in \u001b[0;36m__call__\u001b[1;34m(self, iterable)\u001b[0m\n\u001b[0;32m   1044\u001b[0m                 \u001b[0mself\u001b[0m\u001b[1;33m.\u001b[0m\u001b[0m_iterating\u001b[0m \u001b[1;33m=\u001b[0m \u001b[0mself\u001b[0m\u001b[1;33m.\u001b[0m\u001b[0m_original_iterator\u001b[0m \u001b[1;32mis\u001b[0m \u001b[1;32mnot\u001b[0m \u001b[1;32mNone\u001b[0m\u001b[1;33m\u001b[0m\u001b[1;33m\u001b[0m\u001b[0m\n\u001b[0;32m   1045\u001b[0m \u001b[1;33m\u001b[0m\u001b[0m\n\u001b[1;32m-> 1046\u001b[1;33m             \u001b[1;32mwhile\u001b[0m \u001b[0mself\u001b[0m\u001b[1;33m.\u001b[0m\u001b[0mdispatch_one_batch\u001b[0m\u001b[1;33m(\u001b[0m\u001b[0miterator\u001b[0m\u001b[1;33m)\u001b[0m\u001b[1;33m:\u001b[0m\u001b[1;33m\u001b[0m\u001b[1;33m\u001b[0m\u001b[0m\n\u001b[0m\u001b[0;32m   1047\u001b[0m                 \u001b[1;32mpass\u001b[0m\u001b[1;33m\u001b[0m\u001b[1;33m\u001b[0m\u001b[0m\n\u001b[0;32m   1048\u001b[0m \u001b[1;33m\u001b[0m\u001b[0m\n",
      "\u001b[1;32m~\\anaconda3\\lib\\site-packages\\joblib\\parallel.py\u001b[0m in \u001b[0;36mdispatch_one_batch\u001b[1;34m(self, iterator)\u001b[0m\n\u001b[0;32m    859\u001b[0m                 \u001b[1;32mreturn\u001b[0m \u001b[1;32mFalse\u001b[0m\u001b[1;33m\u001b[0m\u001b[1;33m\u001b[0m\u001b[0m\n\u001b[0;32m    860\u001b[0m             \u001b[1;32melse\u001b[0m\u001b[1;33m:\u001b[0m\u001b[1;33m\u001b[0m\u001b[1;33m\u001b[0m\u001b[0m\n\u001b[1;32m--> 861\u001b[1;33m                 \u001b[0mself\u001b[0m\u001b[1;33m.\u001b[0m\u001b[0m_dispatch\u001b[0m\u001b[1;33m(\u001b[0m\u001b[0mtasks\u001b[0m\u001b[1;33m)\u001b[0m\u001b[1;33m\u001b[0m\u001b[1;33m\u001b[0m\u001b[0m\n\u001b[0m\u001b[0;32m    862\u001b[0m                 \u001b[1;32mreturn\u001b[0m \u001b[1;32mTrue\u001b[0m\u001b[1;33m\u001b[0m\u001b[1;33m\u001b[0m\u001b[0m\n\u001b[0;32m    863\u001b[0m \u001b[1;33m\u001b[0m\u001b[0m\n",
      "\u001b[1;32m~\\anaconda3\\lib\\site-packages\\joblib\\parallel.py\u001b[0m in \u001b[0;36m_dispatch\u001b[1;34m(self, batch)\u001b[0m\n\u001b[0;32m    777\u001b[0m         \u001b[1;32mwith\u001b[0m \u001b[0mself\u001b[0m\u001b[1;33m.\u001b[0m\u001b[0m_lock\u001b[0m\u001b[1;33m:\u001b[0m\u001b[1;33m\u001b[0m\u001b[1;33m\u001b[0m\u001b[0m\n\u001b[0;32m    778\u001b[0m             \u001b[0mjob_idx\u001b[0m \u001b[1;33m=\u001b[0m \u001b[0mlen\u001b[0m\u001b[1;33m(\u001b[0m\u001b[0mself\u001b[0m\u001b[1;33m.\u001b[0m\u001b[0m_jobs\u001b[0m\u001b[1;33m)\u001b[0m\u001b[1;33m\u001b[0m\u001b[1;33m\u001b[0m\u001b[0m\n\u001b[1;32m--> 779\u001b[1;33m             \u001b[0mjob\u001b[0m \u001b[1;33m=\u001b[0m \u001b[0mself\u001b[0m\u001b[1;33m.\u001b[0m\u001b[0m_backend\u001b[0m\u001b[1;33m.\u001b[0m\u001b[0mapply_async\u001b[0m\u001b[1;33m(\u001b[0m\u001b[0mbatch\u001b[0m\u001b[1;33m,\u001b[0m \u001b[0mcallback\u001b[0m\u001b[1;33m=\u001b[0m\u001b[0mcb\u001b[0m\u001b[1;33m)\u001b[0m\u001b[1;33m\u001b[0m\u001b[1;33m\u001b[0m\u001b[0m\n\u001b[0m\u001b[0;32m    780\u001b[0m             \u001b[1;31m# A job can complete so quickly than its callback is\u001b[0m\u001b[1;33m\u001b[0m\u001b[1;33m\u001b[0m\u001b[0m\n\u001b[0;32m    781\u001b[0m             \u001b[1;31m# called before we get here, causing self._jobs to\u001b[0m\u001b[1;33m\u001b[0m\u001b[1;33m\u001b[0m\u001b[0m\n",
      "\u001b[1;32m~\\anaconda3\\lib\\site-packages\\joblib\\_parallel_backends.py\u001b[0m in \u001b[0;36mapply_async\u001b[1;34m(self, func, callback)\u001b[0m\n\u001b[0;32m    206\u001b[0m     \u001b[1;32mdef\u001b[0m \u001b[0mapply_async\u001b[0m\u001b[1;33m(\u001b[0m\u001b[0mself\u001b[0m\u001b[1;33m,\u001b[0m \u001b[0mfunc\u001b[0m\u001b[1;33m,\u001b[0m \u001b[0mcallback\u001b[0m\u001b[1;33m=\u001b[0m\u001b[1;32mNone\u001b[0m\u001b[1;33m)\u001b[0m\u001b[1;33m:\u001b[0m\u001b[1;33m\u001b[0m\u001b[1;33m\u001b[0m\u001b[0m\n\u001b[0;32m    207\u001b[0m         \u001b[1;34m\"\"\"Schedule a func to be run\"\"\"\u001b[0m\u001b[1;33m\u001b[0m\u001b[1;33m\u001b[0m\u001b[0m\n\u001b[1;32m--> 208\u001b[1;33m         \u001b[0mresult\u001b[0m \u001b[1;33m=\u001b[0m \u001b[0mImmediateResult\u001b[0m\u001b[1;33m(\u001b[0m\u001b[0mfunc\u001b[0m\u001b[1;33m)\u001b[0m\u001b[1;33m\u001b[0m\u001b[1;33m\u001b[0m\u001b[0m\n\u001b[0m\u001b[0;32m    209\u001b[0m         \u001b[1;32mif\u001b[0m \u001b[0mcallback\u001b[0m\u001b[1;33m:\u001b[0m\u001b[1;33m\u001b[0m\u001b[1;33m\u001b[0m\u001b[0m\n\u001b[0;32m    210\u001b[0m             \u001b[0mcallback\u001b[0m\u001b[1;33m(\u001b[0m\u001b[0mresult\u001b[0m\u001b[1;33m)\u001b[0m\u001b[1;33m\u001b[0m\u001b[1;33m\u001b[0m\u001b[0m\n",
      "\u001b[1;32m~\\anaconda3\\lib\\site-packages\\joblib\\_parallel_backends.py\u001b[0m in \u001b[0;36m__init__\u001b[1;34m(self, batch)\u001b[0m\n\u001b[0;32m    570\u001b[0m         \u001b[1;31m# Don't delay the application, to avoid keeping the input\u001b[0m\u001b[1;33m\u001b[0m\u001b[1;33m\u001b[0m\u001b[0m\n\u001b[0;32m    571\u001b[0m         \u001b[1;31m# arguments in memory\u001b[0m\u001b[1;33m\u001b[0m\u001b[1;33m\u001b[0m\u001b[0m\n\u001b[1;32m--> 572\u001b[1;33m         \u001b[0mself\u001b[0m\u001b[1;33m.\u001b[0m\u001b[0mresults\u001b[0m \u001b[1;33m=\u001b[0m \u001b[0mbatch\u001b[0m\u001b[1;33m(\u001b[0m\u001b[1;33m)\u001b[0m\u001b[1;33m\u001b[0m\u001b[1;33m\u001b[0m\u001b[0m\n\u001b[0m\u001b[0;32m    573\u001b[0m \u001b[1;33m\u001b[0m\u001b[0m\n\u001b[0;32m    574\u001b[0m     \u001b[1;32mdef\u001b[0m \u001b[0mget\u001b[0m\u001b[1;33m(\u001b[0m\u001b[0mself\u001b[0m\u001b[1;33m)\u001b[0m\u001b[1;33m:\u001b[0m\u001b[1;33m\u001b[0m\u001b[1;33m\u001b[0m\u001b[0m\n",
      "\u001b[1;32m~\\anaconda3\\lib\\site-packages\\joblib\\parallel.py\u001b[0m in \u001b[0;36m__call__\u001b[1;34m(self)\u001b[0m\n\u001b[0;32m    260\u001b[0m         \u001b[1;31m# change the default number of processes to -1\u001b[0m\u001b[1;33m\u001b[0m\u001b[1;33m\u001b[0m\u001b[0m\n\u001b[0;32m    261\u001b[0m         \u001b[1;32mwith\u001b[0m \u001b[0mparallel_backend\u001b[0m\u001b[1;33m(\u001b[0m\u001b[0mself\u001b[0m\u001b[1;33m.\u001b[0m\u001b[0m_backend\u001b[0m\u001b[1;33m,\u001b[0m \u001b[0mn_jobs\u001b[0m\u001b[1;33m=\u001b[0m\u001b[0mself\u001b[0m\u001b[1;33m.\u001b[0m\u001b[0m_n_jobs\u001b[0m\u001b[1;33m)\u001b[0m\u001b[1;33m:\u001b[0m\u001b[1;33m\u001b[0m\u001b[1;33m\u001b[0m\u001b[0m\n\u001b[1;32m--> 262\u001b[1;33m             return [func(*args, **kwargs)\n\u001b[0m\u001b[0;32m    263\u001b[0m                     for func, args, kwargs in self.items]\n\u001b[0;32m    264\u001b[0m \u001b[1;33m\u001b[0m\u001b[0m\n",
      "\u001b[1;32m~\\anaconda3\\lib\\site-packages\\joblib\\parallel.py\u001b[0m in \u001b[0;36m<listcomp>\u001b[1;34m(.0)\u001b[0m\n\u001b[0;32m    260\u001b[0m         \u001b[1;31m# change the default number of processes to -1\u001b[0m\u001b[1;33m\u001b[0m\u001b[1;33m\u001b[0m\u001b[0m\n\u001b[0;32m    261\u001b[0m         \u001b[1;32mwith\u001b[0m \u001b[0mparallel_backend\u001b[0m\u001b[1;33m(\u001b[0m\u001b[0mself\u001b[0m\u001b[1;33m.\u001b[0m\u001b[0m_backend\u001b[0m\u001b[1;33m,\u001b[0m \u001b[0mn_jobs\u001b[0m\u001b[1;33m=\u001b[0m\u001b[0mself\u001b[0m\u001b[1;33m.\u001b[0m\u001b[0m_n_jobs\u001b[0m\u001b[1;33m)\u001b[0m\u001b[1;33m:\u001b[0m\u001b[1;33m\u001b[0m\u001b[1;33m\u001b[0m\u001b[0m\n\u001b[1;32m--> 262\u001b[1;33m             return [func(*args, **kwargs)\n\u001b[0m\u001b[0;32m    263\u001b[0m                     for func, args, kwargs in self.items]\n\u001b[0;32m    264\u001b[0m \u001b[1;33m\u001b[0m\u001b[0m\n",
      "\u001b[1;32m~\\anaconda3\\lib\\site-packages\\sklearn\\utils\\fixes.py\u001b[0m in \u001b[0;36m__call__\u001b[1;34m(self, *args, **kwargs)\u001b[0m\n\u001b[0;32m    214\u001b[0m     \u001b[1;32mdef\u001b[0m \u001b[0m__call__\u001b[0m\u001b[1;33m(\u001b[0m\u001b[0mself\u001b[0m\u001b[1;33m,\u001b[0m \u001b[1;33m*\u001b[0m\u001b[0margs\u001b[0m\u001b[1;33m,\u001b[0m \u001b[1;33m**\u001b[0m\u001b[0mkwargs\u001b[0m\u001b[1;33m)\u001b[0m\u001b[1;33m:\u001b[0m\u001b[1;33m\u001b[0m\u001b[1;33m\u001b[0m\u001b[0m\n\u001b[0;32m    215\u001b[0m         \u001b[1;32mwith\u001b[0m \u001b[0mconfig_context\u001b[0m\u001b[1;33m(\u001b[0m\u001b[1;33m**\u001b[0m\u001b[0mself\u001b[0m\u001b[1;33m.\u001b[0m\u001b[0mconfig\u001b[0m\u001b[1;33m)\u001b[0m\u001b[1;33m:\u001b[0m\u001b[1;33m\u001b[0m\u001b[1;33m\u001b[0m\u001b[0m\n\u001b[1;32m--> 216\u001b[1;33m             \u001b[1;32mreturn\u001b[0m \u001b[0mself\u001b[0m\u001b[1;33m.\u001b[0m\u001b[0mfunction\u001b[0m\u001b[1;33m(\u001b[0m\u001b[1;33m*\u001b[0m\u001b[0margs\u001b[0m\u001b[1;33m,\u001b[0m \u001b[1;33m**\u001b[0m\u001b[0mkwargs\u001b[0m\u001b[1;33m)\u001b[0m\u001b[1;33m\u001b[0m\u001b[1;33m\u001b[0m\u001b[0m\n\u001b[0m\u001b[0;32m    217\u001b[0m \u001b[1;33m\u001b[0m\u001b[0m\n\u001b[0;32m    218\u001b[0m \u001b[1;33m\u001b[0m\u001b[0m\n",
      "\u001b[1;32m~\\anaconda3\\lib\\site-packages\\sklearn\\model_selection\\_validation.py\u001b[0m in \u001b[0;36m_fit_and_score\u001b[1;34m(estimator, X, y, scorer, train, test, verbose, parameters, fit_params, return_train_score, return_parameters, return_n_test_samples, return_times, return_estimator, split_progress, candidate_progress, error_score)\u001b[0m\n\u001b[0;32m    678\u001b[0m             \u001b[0mestimator\u001b[0m\u001b[1;33m.\u001b[0m\u001b[0mfit\u001b[0m\u001b[1;33m(\u001b[0m\u001b[0mX_train\u001b[0m\u001b[1;33m,\u001b[0m \u001b[1;33m**\u001b[0m\u001b[0mfit_params\u001b[0m\u001b[1;33m)\u001b[0m\u001b[1;33m\u001b[0m\u001b[1;33m\u001b[0m\u001b[0m\n\u001b[0;32m    679\u001b[0m         \u001b[1;32melse\u001b[0m\u001b[1;33m:\u001b[0m\u001b[1;33m\u001b[0m\u001b[1;33m\u001b[0m\u001b[0m\n\u001b[1;32m--> 680\u001b[1;33m             \u001b[0mestimator\u001b[0m\u001b[1;33m.\u001b[0m\u001b[0mfit\u001b[0m\u001b[1;33m(\u001b[0m\u001b[0mX_train\u001b[0m\u001b[1;33m,\u001b[0m \u001b[0my_train\u001b[0m\u001b[1;33m,\u001b[0m \u001b[1;33m**\u001b[0m\u001b[0mfit_params\u001b[0m\u001b[1;33m)\u001b[0m\u001b[1;33m\u001b[0m\u001b[1;33m\u001b[0m\u001b[0m\n\u001b[0m\u001b[0;32m    681\u001b[0m \u001b[1;33m\u001b[0m\u001b[0m\n\u001b[0;32m    682\u001b[0m     \u001b[1;32mexcept\u001b[0m \u001b[0mException\u001b[0m\u001b[1;33m:\u001b[0m\u001b[1;33m\u001b[0m\u001b[1;33m\u001b[0m\u001b[0m\n",
      "\u001b[1;32m~\\anaconda3\\lib\\site-packages\\sklearn\\ensemble\\_gb.py\u001b[0m in \u001b[0;36mfit\u001b[1;34m(self, X, y, sample_weight, monitor)\u001b[0m\n\u001b[0;32m    584\u001b[0m \u001b[1;33m\u001b[0m\u001b[0m\n\u001b[0;32m    585\u001b[0m         \u001b[1;31m# fit the boosting stages\u001b[0m\u001b[1;33m\u001b[0m\u001b[1;33m\u001b[0m\u001b[0m\n\u001b[1;32m--> 586\u001b[1;33m         n_stages = self._fit_stages(\n\u001b[0m\u001b[0;32m    587\u001b[0m             \u001b[0mX\u001b[0m\u001b[1;33m,\u001b[0m\u001b[1;33m\u001b[0m\u001b[1;33m\u001b[0m\u001b[0m\n\u001b[0;32m    588\u001b[0m             \u001b[0my\u001b[0m\u001b[1;33m,\u001b[0m\u001b[1;33m\u001b[0m\u001b[1;33m\u001b[0m\u001b[0m\n",
      "\u001b[1;32m~\\anaconda3\\lib\\site-packages\\sklearn\\ensemble\\_gb.py\u001b[0m in \u001b[0;36m_fit_stages\u001b[1;34m(self, X, y, raw_predictions, sample_weight, random_state, X_val, y_val, sample_weight_val, begin_at_stage, monitor)\u001b[0m\n\u001b[0;32m    661\u001b[0m \u001b[1;33m\u001b[0m\u001b[0m\n\u001b[0;32m    662\u001b[0m             \u001b[1;31m# fit next stage of trees\u001b[0m\u001b[1;33m\u001b[0m\u001b[1;33m\u001b[0m\u001b[0m\n\u001b[1;32m--> 663\u001b[1;33m             raw_predictions = self._fit_stage(\n\u001b[0m\u001b[0;32m    664\u001b[0m                 \u001b[0mi\u001b[0m\u001b[1;33m,\u001b[0m\u001b[1;33m\u001b[0m\u001b[1;33m\u001b[0m\u001b[0m\n\u001b[0;32m    665\u001b[0m                 \u001b[0mX\u001b[0m\u001b[1;33m,\u001b[0m\u001b[1;33m\u001b[0m\u001b[1;33m\u001b[0m\u001b[0m\n",
      "\u001b[1;32m~\\anaconda3\\lib\\site-packages\\sklearn\\ensemble\\_gb.py\u001b[0m in \u001b[0;36m_fit_stage\u001b[1;34m(self, i, X, y, raw_predictions, sample_weight, sample_mask, random_state, X_csc, X_csr)\u001b[0m\n\u001b[0;32m    244\u001b[0m \u001b[1;33m\u001b[0m\u001b[0m\n\u001b[0;32m    245\u001b[0m             \u001b[0mX\u001b[0m \u001b[1;33m=\u001b[0m \u001b[0mX_csr\u001b[0m \u001b[1;32mif\u001b[0m \u001b[0mX_csr\u001b[0m \u001b[1;32mis\u001b[0m \u001b[1;32mnot\u001b[0m \u001b[1;32mNone\u001b[0m \u001b[1;32melse\u001b[0m \u001b[0mX\u001b[0m\u001b[1;33m\u001b[0m\u001b[1;33m\u001b[0m\u001b[0m\n\u001b[1;32m--> 246\u001b[1;33m             \u001b[0mtree\u001b[0m\u001b[1;33m.\u001b[0m\u001b[0mfit\u001b[0m\u001b[1;33m(\u001b[0m\u001b[0mX\u001b[0m\u001b[1;33m,\u001b[0m \u001b[0mresidual\u001b[0m\u001b[1;33m,\u001b[0m \u001b[0msample_weight\u001b[0m\u001b[1;33m=\u001b[0m\u001b[0msample_weight\u001b[0m\u001b[1;33m,\u001b[0m \u001b[0mcheck_input\u001b[0m\u001b[1;33m=\u001b[0m\u001b[1;32mFalse\u001b[0m\u001b[1;33m)\u001b[0m\u001b[1;33m\u001b[0m\u001b[1;33m\u001b[0m\u001b[0m\n\u001b[0m\u001b[0;32m    247\u001b[0m \u001b[1;33m\u001b[0m\u001b[0m\n\u001b[0;32m    248\u001b[0m             \u001b[1;31m# update tree leaves\u001b[0m\u001b[1;33m\u001b[0m\u001b[1;33m\u001b[0m\u001b[0m\n",
      "\u001b[1;32m~\\anaconda3\\lib\\site-packages\\sklearn\\tree\\_classes.py\u001b[0m in \u001b[0;36mfit\u001b[1;34m(self, X, y, sample_weight, check_input, X_idx_sorted)\u001b[0m\n\u001b[0;32m   1313\u001b[0m         \"\"\"\n\u001b[0;32m   1314\u001b[0m \u001b[1;33m\u001b[0m\u001b[0m\n\u001b[1;32m-> 1315\u001b[1;33m         super().fit(\n\u001b[0m\u001b[0;32m   1316\u001b[0m             \u001b[0mX\u001b[0m\u001b[1;33m,\u001b[0m\u001b[1;33m\u001b[0m\u001b[1;33m\u001b[0m\u001b[0m\n\u001b[0;32m   1317\u001b[0m             \u001b[0my\u001b[0m\u001b[1;33m,\u001b[0m\u001b[1;33m\u001b[0m\u001b[1;33m\u001b[0m\u001b[0m\n",
      "\u001b[1;32m~\\anaconda3\\lib\\site-packages\\sklearn\\tree\\_classes.py\u001b[0m in \u001b[0;36mfit\u001b[1;34m(self, X, y, sample_weight, check_input, X_idx_sorted)\u001b[0m\n\u001b[0;32m    418\u001b[0m             )\n\u001b[0;32m    419\u001b[0m \u001b[1;33m\u001b[0m\u001b[0m\n\u001b[1;32m--> 420\u001b[1;33m         \u001b[0mbuilder\u001b[0m\u001b[1;33m.\u001b[0m\u001b[0mbuild\u001b[0m\u001b[1;33m(\u001b[0m\u001b[0mself\u001b[0m\u001b[1;33m.\u001b[0m\u001b[0mtree_\u001b[0m\u001b[1;33m,\u001b[0m \u001b[0mX\u001b[0m\u001b[1;33m,\u001b[0m \u001b[0my\u001b[0m\u001b[1;33m,\u001b[0m \u001b[0msample_weight\u001b[0m\u001b[1;33m)\u001b[0m\u001b[1;33m\u001b[0m\u001b[1;33m\u001b[0m\u001b[0m\n\u001b[0m\u001b[0;32m    421\u001b[0m \u001b[1;33m\u001b[0m\u001b[0m\n\u001b[0;32m    422\u001b[0m         \u001b[1;32mif\u001b[0m \u001b[0mself\u001b[0m\u001b[1;33m.\u001b[0m\u001b[0mn_outputs_\u001b[0m \u001b[1;33m==\u001b[0m \u001b[1;36m1\u001b[0m \u001b[1;32mand\u001b[0m \u001b[0mis_classifier\u001b[0m\u001b[1;33m(\u001b[0m\u001b[0mself\u001b[0m\u001b[1;33m)\u001b[0m\u001b[1;33m:\u001b[0m\u001b[1;33m\u001b[0m\u001b[1;33m\u001b[0m\u001b[0m\n",
      "\u001b[1;31mKeyboardInterrupt\u001b[0m: "
     ]
    }
   ],
   "source": [
    "GB_params = {\n",
    "    'learning_rate': np.arange(0.001, 0.1, 0.003),\n",
    "    'max_depth': np.arange(1, 12, 2),\n",
    "    'max_features':['log2','sqrt'],    \n",
    "          }\n",
    "GB_model = GridSearchCV(GradientBoostingRegressor(), GB_params, cv=10)\n",
    "GB_model.fit(X = X_train,\n",
    "              y = y_train)\n",
    "\n",
    "prediction = GB_model.best_estimator_.predict(X_test)\n",
    "score = mean_absolute_error(prediction, y_test)\n",
    "score_2 = mean_squared_error(prediction, y_test)\n",
    "score_3 = GB_model.score (X_test, y_test)\n",
    "\n",
    "print('Прочность при растяжении')\n",
    "print(f'Лучшие найденные параметры: {GB_model.best_estimator_}')\n",
    "print(f'MAE: {round(score, 5)}')\n",
    "print(f'MSE: {round(score_2, 5)}')\n",
    "print(f'R2: {round(score_3, 5)}')"
   ]
  }
 ],
 "metadata": {
  "kernelspec": {
   "display_name": "Python 3 (ipykernel)",
   "language": "python",
   "name": "python3"
  },
  "language_info": {
   "codemirror_mode": {
    "name": "ipython",
    "version": 3
   },
   "file_extension": ".py",
   "mimetype": "text/x-python",
   "name": "python",
   "nbconvert_exporter": "python",
   "pygments_lexer": "ipython3",
   "version": "3.9.13"
  }
 },
 "nbformat": 4,
 "nbformat_minor": 5
}
