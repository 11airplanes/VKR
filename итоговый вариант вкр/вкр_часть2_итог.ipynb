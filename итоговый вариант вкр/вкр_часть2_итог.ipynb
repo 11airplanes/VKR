{
 "cells": [
  {
   "cell_type": "markdown",
   "id": "232c28a1-103f-4208-b5bc-f69d3eb65925",
   "metadata": {},
   "source": [
    "# Выпускная квалификационная работа по курсу «Data Science»\n",
    "## Прогнозирование конечных свойств новых материалов (композиционных материалов)¶\n",
    "### Кузьмина Е.В."
   ]
  },
  {
   "cell_type": "markdown",
   "id": "97181ca7-68b6-4c02-b6d1-9506c4c31846",
   "metadata": {},
   "source": [
    "### Часть 2. Обучение моделей."
   ]
  },
  {
   "cell_type": "code",
   "execution_count": 3,
   "id": "b805d32e-49bc-4fc5-85d6-cf16bc2879d1",
   "metadata": {},
   "outputs": [],
   "source": [
    "# Загружаем библиотеки"
   ]
  },
  {
   "cell_type": "code",
   "execution_count": 2,
   "id": "37a3b15e-7b5f-48e9-a08e-b72de458b909",
   "metadata": {},
   "outputs": [],
   "source": [
    "import pandas as pd\n",
    "import matplotlib.pyplot as plt\n",
    "import tensorflow as tf\n",
    "import seaborn as sns\n",
    "import plotly.express as px\n",
    "import tensorflow as tf\n",
    "import sklearn\n",
    "import numpy as np\n",
    "\n",
    "from sklearn import linear_model\n",
    "from sklearn.ensemble import RandomForestRegressor, GradientBoostingRegressor\n",
    "from sklearn.linear_model import LinearRegression, Ridge, Lasso\n",
    "from sklearn.metrics import mean_squared_error, r2_score, mean_absolute_percentage_error, mean_absolute_error\n",
    "from sklearn.model_selection import train_test_split, GridSearchCV\n",
    "from sklearn.neighbors import KNeighborsRegressor\n",
    "from sklearn import preprocessing\n",
    "from sklearn.preprocessing import Normalizer, LabelEncoder, MinMaxScaler, StandardScaler, PowerTransformer\n",
    "from sklearn.metrics import accuracy_score, confusion_matrix\n",
    "\n",
    "from tensorflow import keras as keras\n",
    "from tensorflow.keras import layers\n",
    "from tensorflow.keras.layers import Dense, Flatten, Dropout, Activation\n",
    "from pandas import read_excel, DataFrame, Series\n",
    "from tensorflow.keras.models import Sequential\n",
    "from numpy.random import seed\n",
    "%config InlineBackend.figure_format = 'retina'"
   ]
  },
  {
   "cell_type": "code",
   "execution_count": 3,
   "id": "99d5c0c9-4664-464d-b261-edf3d10bf714",
   "metadata": {},
   "outputs": [
    {
     "data": {
      "text/html": [
       "<div>\n",
       "<style scoped>\n",
       "    .dataframe tbody tr th:only-of-type {\n",
       "        vertical-align: middle;\n",
       "    }\n",
       "\n",
       "    .dataframe tbody tr th {\n",
       "        vertical-align: top;\n",
       "    }\n",
       "\n",
       "    .dataframe thead th {\n",
       "        text-align: right;\n",
       "    }\n",
       "</style>\n",
       "<table border=\"1\" class=\"dataframe\">\n",
       "  <thead>\n",
       "    <tr style=\"text-align: right;\">\n",
       "      <th></th>\n",
       "      <th>Соотношение матрица-наполнитель</th>\n",
       "      <th>Плотность, кг/м3</th>\n",
       "      <th>модуль упругости, ГПа</th>\n",
       "      <th>Количество отвердителя, м.%</th>\n",
       "      <th>Содержание эпоксидных групп,%_2</th>\n",
       "      <th>Температура вспышки, С_2</th>\n",
       "      <th>Поверхностная плотность, г/м2</th>\n",
       "      <th>Модуль упругости при растяжении, ГПа</th>\n",
       "      <th>Прочность при растяжении, МПа</th>\n",
       "      <th>Потребление смолы, г/м2</th>\n",
       "      <th>Угол нашивки, град</th>\n",
       "      <th>Шаг нашивки</th>\n",
       "      <th>Плотность нашивки</th>\n",
       "    </tr>\n",
       "  </thead>\n",
       "  <tbody>\n",
       "    <tr>\n",
       "      <th>0</th>\n",
       "      <td>0.274768</td>\n",
       "      <td>0.651097</td>\n",
       "      <td>0.452951</td>\n",
       "      <td>0.079153</td>\n",
       "      <td>0.607435</td>\n",
       "      <td>0.509164</td>\n",
       "      <td>0.162230</td>\n",
       "      <td>0.272962</td>\n",
       "      <td>0.727777</td>\n",
       "      <td>0.514688</td>\n",
       "      <td>0</td>\n",
       "      <td>0.289334</td>\n",
       "      <td>0.546433</td>\n",
       "    </tr>\n",
       "    <tr>\n",
       "      <th>1</th>\n",
       "      <td>0.274768</td>\n",
       "      <td>0.651097</td>\n",
       "      <td>0.452951</td>\n",
       "      <td>0.630983</td>\n",
       "      <td>0.418887</td>\n",
       "      <td>0.583596</td>\n",
       "      <td>0.162230</td>\n",
       "      <td>0.272962</td>\n",
       "      <td>0.727777</td>\n",
       "      <td>0.514688</td>\n",
       "      <td>0</td>\n",
       "      <td>0.362355</td>\n",
       "      <td>0.319758</td>\n",
       "    </tr>\n",
       "    <tr>\n",
       "      <th>2</th>\n",
       "      <td>0.466552</td>\n",
       "      <td>0.651097</td>\n",
       "      <td>0.461725</td>\n",
       "      <td>0.511257</td>\n",
       "      <td>0.495653</td>\n",
       "      <td>0.509164</td>\n",
       "      <td>0.162230</td>\n",
       "      <td>0.272962</td>\n",
       "      <td>0.727777</td>\n",
       "      <td>0.514688</td>\n",
       "      <td>0</td>\n",
       "      <td>0.362355</td>\n",
       "      <td>0.494123</td>\n",
       "    </tr>\n",
       "    <tr>\n",
       "      <th>3</th>\n",
       "      <td>0.465836</td>\n",
       "      <td>0.571539</td>\n",
       "      <td>0.458649</td>\n",
       "      <td>0.511257</td>\n",
       "      <td>0.495653</td>\n",
       "      <td>0.509164</td>\n",
       "      <td>0.162230</td>\n",
       "      <td>0.272962</td>\n",
       "      <td>0.727777</td>\n",
       "      <td>0.514688</td>\n",
       "      <td>0</td>\n",
       "      <td>0.362355</td>\n",
       "      <td>0.546433</td>\n",
       "    </tr>\n",
       "    <tr>\n",
       "      <th>4</th>\n",
       "      <td>0.424236</td>\n",
       "      <td>0.332865</td>\n",
       "      <td>0.494944</td>\n",
       "      <td>0.511257</td>\n",
       "      <td>0.495653</td>\n",
       "      <td>0.509164</td>\n",
       "      <td>0.162230</td>\n",
       "      <td>0.272962</td>\n",
       "      <td>0.727777</td>\n",
       "      <td>0.514688</td>\n",
       "      <td>0</td>\n",
       "      <td>0.362355</td>\n",
       "      <td>0.720799</td>\n",
       "    </tr>\n",
       "    <tr>\n",
       "      <th>...</th>\n",
       "      <td>...</td>\n",
       "      <td>...</td>\n",
       "      <td>...</td>\n",
       "      <td>...</td>\n",
       "      <td>...</td>\n",
       "      <td>...</td>\n",
       "      <td>...</td>\n",
       "      <td>...</td>\n",
       "      <td>...</td>\n",
       "      <td>...</td>\n",
       "      <td>...</td>\n",
       "      <td>...</td>\n",
       "      <td>...</td>\n",
       "    </tr>\n",
       "    <tr>\n",
       "      <th>917</th>\n",
       "      <td>0.361662</td>\n",
       "      <td>0.444480</td>\n",
       "      <td>0.560064</td>\n",
       "      <td>0.337550</td>\n",
       "      <td>0.333908</td>\n",
       "      <td>0.703458</td>\n",
       "      <td>0.161609</td>\n",
       "      <td>0.473553</td>\n",
       "      <td>0.472912</td>\n",
       "      <td>0.183151</td>\n",
       "      <td>1</td>\n",
       "      <td>0.660014</td>\n",
       "      <td>0.320103</td>\n",
       "    </tr>\n",
       "    <tr>\n",
       "      <th>918</th>\n",
       "      <td>0.607674</td>\n",
       "      <td>0.704373</td>\n",
       "      <td>0.272088</td>\n",
       "      <td>0.749605</td>\n",
       "      <td>0.294428</td>\n",
       "      <td>0.362087</td>\n",
       "      <td>0.271207</td>\n",
       "      <td>0.462512</td>\n",
       "      <td>0.461722</td>\n",
       "      <td>0.157752</td>\n",
       "      <td>1</td>\n",
       "      <td>0.768759</td>\n",
       "      <td>0.437468</td>\n",
       "    </tr>\n",
       "    <tr>\n",
       "      <th>919</th>\n",
       "      <td>0.573391</td>\n",
       "      <td>0.498274</td>\n",
       "      <td>0.254927</td>\n",
       "      <td>0.501991</td>\n",
       "      <td>0.623085</td>\n",
       "      <td>0.334063</td>\n",
       "      <td>0.572959</td>\n",
       "      <td>0.580201</td>\n",
       "      <td>0.587558</td>\n",
       "      <td>0.572648</td>\n",
       "      <td>1</td>\n",
       "      <td>0.301102</td>\n",
       "      <td>0.679468</td>\n",
       "    </tr>\n",
       "    <tr>\n",
       "      <th>920</th>\n",
       "      <td>0.662497</td>\n",
       "      <td>0.748688</td>\n",
       "      <td>0.454635</td>\n",
       "      <td>0.717585</td>\n",
       "      <td>0.267818</td>\n",
       "      <td>0.466417</td>\n",
       "      <td>0.496511</td>\n",
       "      <td>0.535317</td>\n",
       "      <td>0.341643</td>\n",
       "      <td>0.434855</td>\n",
       "      <td>1</td>\n",
       "      <td>0.458245</td>\n",
       "      <td>0.516112</td>\n",
       "    </tr>\n",
       "    <tr>\n",
       "      <th>921</th>\n",
       "      <td>0.684036</td>\n",
       "      <td>0.280923</td>\n",
       "      <td>0.255222</td>\n",
       "      <td>0.632264</td>\n",
       "      <td>0.888354</td>\n",
       "      <td>0.588206</td>\n",
       "      <td>0.587373</td>\n",
       "      <td>0.552644</td>\n",
       "      <td>0.668015</td>\n",
       "      <td>0.426577</td>\n",
       "      <td>1</td>\n",
       "      <td>0.441137</td>\n",
       "      <td>0.850430</td>\n",
       "    </tr>\n",
       "  </tbody>\n",
       "</table>\n",
       "<p>922 rows × 13 columns</p>\n",
       "</div>"
      ],
      "text/plain": [
       "     Соотношение матрица-наполнитель  Плотность, кг/м3  модуль упругости, ГПа  \\\n",
       "0                           0.274768          0.651097               0.452951   \n",
       "1                           0.274768          0.651097               0.452951   \n",
       "2                           0.466552          0.651097               0.461725   \n",
       "3                           0.465836          0.571539               0.458649   \n",
       "4                           0.424236          0.332865               0.494944   \n",
       "..                               ...               ...                    ...   \n",
       "917                         0.361662          0.444480               0.560064   \n",
       "918                         0.607674          0.704373               0.272088   \n",
       "919                         0.573391          0.498274               0.254927   \n",
       "920                         0.662497          0.748688               0.454635   \n",
       "921                         0.684036          0.280923               0.255222   \n",
       "\n",
       "     Количество отвердителя, м.%  Содержание эпоксидных групп,%_2  \\\n",
       "0                       0.079153                         0.607435   \n",
       "1                       0.630983                         0.418887   \n",
       "2                       0.511257                         0.495653   \n",
       "3                       0.511257                         0.495653   \n",
       "4                       0.511257                         0.495653   \n",
       "..                           ...                              ...   \n",
       "917                     0.337550                         0.333908   \n",
       "918                     0.749605                         0.294428   \n",
       "919                     0.501991                         0.623085   \n",
       "920                     0.717585                         0.267818   \n",
       "921                     0.632264                         0.888354   \n",
       "\n",
       "     Температура вспышки, С_2  Поверхностная плотность, г/м2  \\\n",
       "0                    0.509164                       0.162230   \n",
       "1                    0.583596                       0.162230   \n",
       "2                    0.509164                       0.162230   \n",
       "3                    0.509164                       0.162230   \n",
       "4                    0.509164                       0.162230   \n",
       "..                        ...                            ...   \n",
       "917                  0.703458                       0.161609   \n",
       "918                  0.362087                       0.271207   \n",
       "919                  0.334063                       0.572959   \n",
       "920                  0.466417                       0.496511   \n",
       "921                  0.588206                       0.587373   \n",
       "\n",
       "     Модуль упругости при растяжении, ГПа  Прочность при растяжении, МПа  \\\n",
       "0                                0.272962                       0.727777   \n",
       "1                                0.272962                       0.727777   \n",
       "2                                0.272962                       0.727777   \n",
       "3                                0.272962                       0.727777   \n",
       "4                                0.272962                       0.727777   \n",
       "..                                    ...                            ...   \n",
       "917                              0.473553                       0.472912   \n",
       "918                              0.462512                       0.461722   \n",
       "919                              0.580201                       0.587558   \n",
       "920                              0.535317                       0.341643   \n",
       "921                              0.552644                       0.668015   \n",
       "\n",
       "     Потребление смолы, г/м2  Угол нашивки, град  Шаг нашивки  \\\n",
       "0                   0.514688                   0     0.289334   \n",
       "1                   0.514688                   0     0.362355   \n",
       "2                   0.514688                   0     0.362355   \n",
       "3                   0.514688                   0     0.362355   \n",
       "4                   0.514688                   0     0.362355   \n",
       "..                       ...                 ...          ...   \n",
       "917                 0.183151                   1     0.660014   \n",
       "918                 0.157752                   1     0.768759   \n",
       "919                 0.572648                   1     0.301102   \n",
       "920                 0.434855                   1     0.458245   \n",
       "921                 0.426577                   1     0.441137   \n",
       "\n",
       "     Плотность нашивки  \n",
       "0             0.546433  \n",
       "1             0.319758  \n",
       "2             0.494123  \n",
       "3             0.546433  \n",
       "4             0.720799  \n",
       "..                 ...  \n",
       "917           0.320103  \n",
       "918           0.437468  \n",
       "919           0.679468  \n",
       "920           0.516112  \n",
       "921           0.850430  \n",
       "\n",
       "[922 rows x 13 columns]"
      ]
     },
     "execution_count": 3,
     "metadata": {},
     "output_type": "execute_result"
    }
   ],
   "source": [
    "df_good = pd.read_excel(\"D:\\\\data science\\вкр\\ВКР_композиты\\df.xlsx\")\n",
    "df_good.drop(['Unnamed: 0'], axis = 1)"
   ]
  },
  {
   "cell_type": "code",
   "execution_count": 4,
   "id": "9840d89a-ee59-487d-ac7a-250c16678aa6",
   "metadata": {},
   "outputs": [],
   "source": [
    "X = df_good[['Соотношение матрица-наполнитель', 'Плотность, кг/м3',\n",
    "                  'модуль упругости, ГПа', 'Количество отвердителя, м.%',\n",
    "                  'Содержание эпоксидных групп,%_2', 'Температура вспышки, С_2',\n",
    "                  'Поверхностная плотность, г/м2',\n",
    "                  'Потребление смолы, г/м2', 'Угол нашивки, град',\n",
    "                  'Шаг нашивки', 'Плотность нашивки']]\n",
    "\n",
    "y_1 = df_good['Модуль упругости при растяжении, ГПа']\n",
    "y_2 = df_good['Прочность при растяжении, МПа']"
   ]
  },
  {
   "cell_type": "code",
   "execution_count": 5,
   "id": "bf641179-2a98-4c7c-95ac-b38afdefb8f5",
   "metadata": {},
   "outputs": [
    {
     "data": {
      "text/plain": [
       "((922, 11), (922,), (922,))"
      ]
     },
     "execution_count": 5,
     "metadata": {},
     "output_type": "execute_result"
    }
   ],
   "source": [
    "X.shape, y_1.shape, y_2.shape"
   ]
  },
  {
   "cell_type": "code",
   "execution_count": 6,
   "id": "154cab02-2d5e-4416-a5ae-94594a0fbd4a",
   "metadata": {},
   "outputs": [],
   "source": [
    "#Модуль упругости"
   ]
  },
  {
   "cell_type": "code",
   "execution_count": 7,
   "id": "fe3317c7-34f6-4da5-9c79-bd993d0d234f",
   "metadata": {},
   "outputs": [],
   "source": [
    "# Делим данные на тренировочную и тестовую выборки"
   ]
  },
  {
   "cell_type": "code",
   "execution_count": 8,
   "id": "741047bb-7010-497b-a939-7c0743cc2c87",
   "metadata": {},
   "outputs": [],
   "source": [
    "X_train, X_test, y_train, y_test = train_test_split(X, y_1,\n",
    "                                                    test_size=0.3,\n",
    "                                                    shuffle=True,\n",
    "                                                    random_state=42)"
   ]
  },
  {
   "cell_type": "code",
   "execution_count": 12,
   "id": "94f58286-1715-4a49-9a4f-c7f7f6e331f7",
   "metadata": {},
   "outputs": [],
   "source": [
    "# Создаем модели для предсказания значений параметра \"Модуль упругости\""
   ]
  },
  {
   "cell_type": "code",
   "execution_count": 9,
   "id": "3541cf4c-3c93-4591-8db1-09e20990e1b0",
   "metadata": {},
   "outputs": [],
   "source": [
    "# LinearRegression"
   ]
  },
  {
   "cell_type": "code",
   "execution_count": 10,
   "id": "32be9041-bf75-4d55-b0b9-ace8636aab27",
   "metadata": {},
   "outputs": [
    {
     "name": "stdout",
     "output_type": "stream",
     "text": [
      "Модуль упругости при растяжении\n",
      "Лучшие найденные параметры: LinearRegression(fit_intercept='True')\n",
      "MAE: 0.16944\n",
      "MSE: 0.04276\n",
      "MAPE: 0.35336\n",
      "R2: -0.02448\n"
     ]
    }
   ],
   "source": [
    "LR_params = { 'fit_intercept' : ['True', 'False']}\n",
    "LR_model = GridSearchCV(LinearRegression(), LR_params, cv=10)\n",
    "LR_model.fit(X = X_train,\n",
    "              y = y_train)\n",
    "\n",
    "prediction = LR_model.best_estimator_.predict(X_test)\n",
    "LR_MAE = mean_absolute_error(prediction, y_test)\n",
    "LR_MSE = mean_squared_error(prediction, y_test)\n",
    "LR_MAPE = mean_absolute_percentage_error(prediction, y_test)\n",
    "LR_R2 = LR_model.best_estimator_.score(X_test, y_test)\n",
    "\n",
    "print('Модуль упругости при растяжении')\n",
    "print(f'Лучшие найденные параметры: {LR_model.best_estimator_}')\n",
    "print(f'MAE: {round(LR_MAE, 5)}')\n",
    "print(f'MSE: {round(LR_MSE, 5)}')\n",
    "print(f'MAPE: {round(LR_MAPE, 5)}')\n",
    "print(f'R2: {round(LR_R2, 5)}')"
   ]
  },
  {
   "cell_type": "code",
   "execution_count": 15,
   "id": "fd067c40-2df9-474d-bd82-0b23599edd18",
   "metadata": {},
   "outputs": [],
   "source": [
    "# Ridge"
   ]
  },
  {
   "cell_type": "code",
   "execution_count": 11,
   "id": "6f77cf5a-bf13-4e65-8206-a758512b6dd9",
   "metadata": {},
   "outputs": [
    {
     "name": "stdout",
     "output_type": "stream",
     "text": [
      "Модуль упругости при растяжении\n",
      "Лучшие найденные параметры: Ridge(alpha=5)\n",
      "MAE: 0.16915\n",
      "MSE: 0.04263\n",
      "MAPE: 0.35258\n",
      "R2: -0.02151\n"
     ]
    }
   ],
   "source": [
    "Ridge_params = { 'alpha': [0.001, 0.005, 0.01, 0.05, 0.095, 0.1, 0.150, 0.2, 0.5, 1, 5]}\n",
    "Ridge_model = GridSearchCV(Ridge(), Ridge_params, cv=10)\n",
    "Ridge_model.fit(X = X_train,\n",
    "              y = y_train)\n",
    "\n",
    "prediction = Ridge_model.best_estimator_.predict(X_test)\n",
    "Ridge_MAE = mean_absolute_error(prediction, y_test)\n",
    "Ridge_MSE = mean_squared_error(prediction, y_test)\n",
    "Ridge_MAPE = mean_absolute_percentage_error(prediction, y_test)\n",
    "Ridge_R2 = Ridge_model.best_estimator_.score(X_test, y_test)\n",
    "\n",
    "print('Модуль упругости при растяжении')\n",
    "print(f'Лучшие найденные параметры: {Ridge_model.best_estimator_}')\n",
    "print(f'MAE: {round(Ridge_MAE, 5)}')\n",
    "print(f'MSE: {round(Ridge_MSE, 5)}')\n",
    "print(f'MAPE: {round(Ridge_MAPE, 5)}')\n",
    "print(f'R2: {round(Ridge_R2, 5)}')"
   ]
  },
  {
   "cell_type": "code",
   "execution_count": 17,
   "id": "de50f1fe-f014-4b9c-b822-7e8771d0049b",
   "metadata": {},
   "outputs": [],
   "source": [
    "# Lasso"
   ]
  },
  {
   "cell_type": "code",
   "execution_count": 13,
   "id": "423392ec-3607-40dc-baa1-4b61b6142bc9",
   "metadata": {},
   "outputs": [
    {
     "name": "stdout",
     "output_type": "stream",
     "text": [
      "Модуль упругости при растяжении\n",
      "Лучшие найденные параметры: Lasso(alpha=0.005)\n",
      "MAE: 0.16762\n",
      "MSE: 0.04215\n",
      "MAPE: 0.34831\n",
      "R2: -0.00986\n"
     ]
    }
   ],
   "source": [
    "Lasso_params = { 'alpha': [0.001, 0.005, 0.01, 0.05, 0.095, 0.1, 0.150, 0.2, 0.5, 1, 5]}\n",
    "Lasso_model = GridSearchCV(Lasso(), Lasso_params, cv=10)\n",
    "Lasso_model.fit(X = X_train,\n",
    "              y = y_train)\n",
    "\n",
    "prediction = Lasso_model.best_estimator_.predict(X_test)\n",
    "Lasso_MAE = mean_absolute_error(prediction, y_test)\n",
    "Lasso_MSE = mean_squared_error(prediction, y_test)\n",
    "Lasso_MAPE = mean_absolute_percentage_error(prediction, y_test)\n",
    "Lasso_R2 = Lasso_model.best_estimator_.score(X_test, y_test)\n",
    "\n",
    "print('Модуль упругости при растяжении')\n",
    "print(f'Лучшие найденные параметры: {Lasso_model.best_estimator_}')\n",
    "print(f'MAE: {round(Lasso_MAE, 5)}')\n",
    "print(f'MSE: {round(Lasso_MSE, 5)}')\n",
    "print(f'MAPE: {round(Lasso_MAPE, 5)}')\n",
    "print(f'R2: {round(Lasso_R2, 5)}')"
   ]
  },
  {
   "cell_type": "code",
   "execution_count": 44,
   "id": "b19b6b12-9cc6-4f4d-ac29-4c6d3da1aa00",
   "metadata": {},
   "outputs": [],
   "source": [
    "# RandomForestRegressor"
   ]
  },
  {
   "cell_type": "code",
   "execution_count": 14,
   "id": "f0028deb-66d1-4465-a3eb-3ee4457c282d",
   "metadata": {},
   "outputs": [
    {
     "name": "stdout",
     "output_type": "stream",
     "text": [
      "Модуль упругости при растяжении\n",
      "Лучшие найденные параметры: RandomForestRegressor(max_depth=3, max_features='sqrt', n_estimators=40)\n",
      "MAE: 0.1681\n",
      "MSE: 0.04224\n",
      "MAPE: 0.34843\n",
      "R2: -0.01212\n"
     ]
    }
   ],
   "source": [
    "RF_params = {\n",
    "   'n_estimators': [20, 40, 60],\n",
    "   'max_features': ['auto', 'sqrt', 'log2'],\n",
    "   'max_depth' : [3,4,5,6]\n",
    "}\n",
    "RF_model = GridSearchCV(RandomForestRegressor(), RF_params, cv=10)\n",
    "RF_model.fit(X = X_train,\n",
    "              y = y_train)\n",
    "\n",
    "prediction = RF_model.best_estimator_.predict(X_test)\n",
    "RF_MAE = mean_absolute_error(prediction, y_test)\n",
    "RF_MSE = mean_squared_error(prediction, y_test)\n",
    "RF_MAPE = mean_absolute_percentage_error(prediction, y_test)\n",
    "RF_R2 = RF_model.best_estimator_.score(X_test, y_test)\n",
    "\n",
    "print('Модуль упругости при растяжении')\n",
    "print(f'Лучшие найденные параметры: {RF_model.best_estimator_}')\n",
    "print(f'MAE: {round(RF_MAE, 5)}')\n",
    "print(f'MSE: {round(RF_MSE, 5)}')\n",
    "print(f'MAPE: {round(RF_MAPE, 5)}')\n",
    "print(f'R2: {round(RF_R2, 5)}')"
   ]
  },
  {
   "cell_type": "code",
   "execution_count": 45,
   "id": "dfd113b3-b52b-40c4-86bf-b3748dd025de",
   "metadata": {},
   "outputs": [],
   "source": [
    "# GradientBoostingRegressor"
   ]
  },
  {
   "cell_type": "code",
   "execution_count": 15,
   "id": "efb8c501-645a-40a1-8b46-c93237207bb9",
   "metadata": {},
   "outputs": [
    {
     "name": "stdout",
     "output_type": "stream",
     "text": [
      "Модуль упругости при растяжении\n",
      "Лучшие найденные параметры: GradientBoostingRegressor(learning_rate=0.001, max_depth=1, max_features='sqrt')\n",
      "MAE: 0.16751\n",
      "MSE: 0.04213\n",
      "MAPE: 0.34786\n",
      "R2: -0.00934\n"
     ]
    }
   ],
   "source": [
    "GB_params = {\n",
    "    'learning_rate': np.arange(0.001, 0.1, 0.003),\n",
    "    'max_depth': np.arange(1, 12, 2),\n",
    "    'max_features':['log2','sqrt'],    \n",
    "          }\n",
    "GB_model = GridSearchCV(GradientBoostingRegressor(), GB_params, cv=10)\n",
    "GB_model.fit(X = X_train,\n",
    "              y = y_train)\n",
    "\n",
    "prediction = GB_model.best_estimator_.predict(X_test)\n",
    "GB_MAE = mean_absolute_error(prediction, y_test)\n",
    "GB_MSE = mean_squared_error(prediction, y_test)\n",
    "GB_MAPE = mean_absolute_percentage_error(prediction, y_test)\n",
    "GB_R2 = GB_model.best_estimator_.score(X_test, y_test)\n",
    "\n",
    "print('Модуль упругости при растяжении')\n",
    "print(f'Лучшие найденные параметры: {GB_model.best_estimator_}')\n",
    "print(f'MAE: {round(GB_MAE, 5)}')\n",
    "print(f'MSE: {round(GB_MSE, 5)}')\n",
    "print(f'MAPE: {round(GB_MAPE, 5)}')\n",
    "print(f'R2: {round(GB_R2, 5)}')"
   ]
  },
  {
   "cell_type": "code",
   "execution_count": 36,
   "id": "9ed8aed6-fd46-44dc-b549-76a651d347ea",
   "metadata": {},
   "outputs": [],
   "source": [
    "#Прочность при растяжении"
   ]
  },
  {
   "cell_type": "code",
   "execution_count": 47,
   "id": "a3eb13f4-ed0e-4636-afa9-dec9fafeee63",
   "metadata": {},
   "outputs": [],
   "source": [
    "# Делим данные на тренировочную и тестовую выборки"
   ]
  },
  {
   "cell_type": "code",
   "execution_count": 19,
   "id": "9241819e-d670-43be-b5db-dd6b4f103841",
   "metadata": {},
   "outputs": [],
   "source": [
    "X_train, X_test, y_train, y_test = train_test_split(X, y_2,\n",
    "                                                    test_size=0.3,\n",
    "                                                    shuffle=True,\n",
    "                                                    random_state=42)"
   ]
  },
  {
   "cell_type": "code",
   "execution_count": 48,
   "id": "cae38402-f1e6-46e7-8812-7844a8bfed62",
   "metadata": {},
   "outputs": [],
   "source": [
    "# LinearRegression"
   ]
  },
  {
   "cell_type": "code",
   "execution_count": 26,
   "id": "b1580778-1bf1-4e3e-9745-c76e2c2a6553",
   "metadata": {},
   "outputs": [
    {
     "name": "stdout",
     "output_type": "stream",
     "text": [
      "Прочность при растяжении\n",
      "Лучшие найденные параметры: LinearRegression(fit_intercept='True')\n",
      "MAE: 0.15476\n",
      "MSE: 0.03717\n",
      "MAPE: 0.31005\n",
      "R2: -0.01159\n"
     ]
    }
   ],
   "source": [
    "LR_params_ = { 'fit_intercept' : ['True', 'False']}\n",
    "LR_model_ = GridSearchCV(LinearRegression(), LR_params_, cv=10)\n",
    "LR_model_.fit(X = X_train,\n",
    "              y = y_train)\n",
    "\n",
    "prediction_ = LR_model_.best_estimator_.predict(X_test)\n",
    "LR_MAE_ = mean_absolute_error(prediction_, y_test)\n",
    "LR_MSE_ = mean_squared_error(prediction_, y_test)\n",
    "LR_MAPE_ = mean_absolute_percentage_error(prediction_, y_test)\n",
    "LR_R2_ = LR_model.best_estimator_.score(X_test, y_test)\n",
    "\n",
    "print('Прочность при растяжении')\n",
    "print(f'Лучшие найденные параметры: {LR_model_.best_estimator_}')\n",
    "print(f'MAE: {round(LR_MAE_, 5)}')\n",
    "print(f'MSE: {round(LR_MSE_, 5)}')\n",
    "print(f'MAPE: {round(LR_MAPE_, 5)}')\n",
    "print(f'R2: {round(LR_R2_, 5)}')"
   ]
  },
  {
   "cell_type": "code",
   "execution_count": 49,
   "id": "15a95890-16ca-4517-bc1e-06ad5da3d989",
   "metadata": {},
   "outputs": [],
   "source": [
    "# Ridge"
   ]
  },
  {
   "cell_type": "code",
   "execution_count": 27,
   "id": "2176f845-8295-4b58-8056-9f2212564ad1",
   "metadata": {},
   "outputs": [
    {
     "name": "stdout",
     "output_type": "stream",
     "text": [
      "Прочность при растяжении\n",
      "Лучшие найденные параметры: Ridge(alpha=5)\n",
      "MAE: 0.15432\n",
      "MSE: 0.03709\n",
      "MAPE: 0.30862\n",
      "R2: -0.00141\n"
     ]
    }
   ],
   "source": [
    "Ridge_params_ = { 'alpha': [0.001, 0.005, 0.01, 0.05, 0.095, 0.1, 0.150, 0.2, 0.5, 1, 5]}\n",
    "Ridge_model_ = GridSearchCV(Ridge(), Ridge_params_, cv=10)\n",
    "Ridge_model_.fit(X = X_train,\n",
    "              y = y_train)\n",
    "\n",
    "prediction_ = Ridge_model_.best_estimator_.predict(X_test)\n",
    "Ridge_MAE_ = mean_absolute_error(prediction_, y_test)\n",
    "Ridge_MSE_ = mean_squared_error(prediction_, y_test)\n",
    "Ridge_MAPE_ = mean_absolute_percentage_error(prediction_, y_test)\n",
    "Ridge_R2_ = Ridge_model_.best_estimator_.score(X_test, y_test)\n",
    "\n",
    "print('Прочность при растяжении')\n",
    "print(f'Лучшие найденные параметры: {Ridge_model_.best_estimator_}')\n",
    "print(f'MAE: {round(Ridge_MAE_, 5)}')\n",
    "print(f'MSE: {round(Ridge_MSE_, 5)}')\n",
    "print(f'MAPE: {round(Ridge_MAPE_, 5)}')\n",
    "print(f'R2: {round(Ridge_R2_, 5)}')"
   ]
  },
  {
   "cell_type": "code",
   "execution_count": 50,
   "id": "63422079-29dd-44b8-90ea-f91033f7ac79",
   "metadata": {},
   "outputs": [],
   "source": [
    "# Lasso"
   ]
  },
  {
   "cell_type": "code",
   "execution_count": 28,
   "id": "aa66ec8a-f981-40b9-bbfc-3f43d9969053",
   "metadata": {},
   "outputs": [
    {
     "name": "stdout",
     "output_type": "stream",
     "text": [
      "Прочность при растяжении\n",
      "Лучшие найденные параметры: Lasso(alpha=0.005)\n",
      "MAE: 0.15344\n",
      "MSE: 0.03704\n",
      "MAPE: 0.30484\n",
      "R2: -6e-05\n"
     ]
    }
   ],
   "source": [
    "Lasso_params_ = { 'alpha': [0.001, 0.005, 0.01, 0.05, 0.095, 0.1, 0.150, 0.2, 0.5, 1, 5]}\n",
    "Lasso_model_ = GridSearchCV(Lasso(), Lasso_params_, cv=10)\n",
    "Lasso_model_.fit(X = X_train,\n",
    "              y = y_train)\n",
    "\n",
    "prediction_ = Lasso_model_.best_estimator_.predict(X_test)\n",
    "Lasso_MAE_ = mean_absolute_error(prediction_, y_test)\n",
    "Lasso_MSE_ = mean_squared_error(prediction_, y_test)\n",
    "Lasso_MAPE_ = mean_absolute_percentage_error(prediction_, y_test)\n",
    "Lasso_R2_ = Lasso_model_.best_estimator_.score(X_test, y_test)\n",
    "\n",
    "print('Прочность при растяжении')\n",
    "print(f'Лучшие найденные параметры: {Lasso_model_.best_estimator_}')\n",
    "print(f'MAE: {round(Lasso_MAE_, 5)}')\n",
    "print(f'MSE: {round(Lasso_MSE_, 5)}')\n",
    "print(f'MAPE: {round(Lasso_MAPE_, 5)}')\n",
    "print(f'R2: {round(Lasso_R2_, 5)}')"
   ]
  },
  {
   "cell_type": "code",
   "execution_count": 51,
   "id": "7f6d8d42-a554-461a-a2ef-77838078ea0a",
   "metadata": {},
   "outputs": [],
   "source": [
    "# RandomForestRegressor"
   ]
  },
  {
   "cell_type": "code",
   "execution_count": 29,
   "id": "6c627d16-f85e-4a1c-8dc0-3e611a9b7c34",
   "metadata": {},
   "outputs": [
    {
     "name": "stdout",
     "output_type": "stream",
     "text": [
      "Прочность при растяжении\n",
      "Лучшие найденные параметры: RandomForestRegressor(max_depth=4, max_features='sqrt', n_estimators=20)\n",
      "MAE: 0.1542\n",
      "MSE: 0.03702\n",
      "MAPE: 0.30865\n",
      "R2: 0.00038\n"
     ]
    }
   ],
   "source": [
    "RF_params_ = {\n",
    "   'n_estimators': [20, 40, 60],\n",
    "   'max_features': ['auto', 'sqrt', 'log2'],\n",
    "   'max_depth' : [3,4,5,6]\n",
    "}\n",
    "RF_model_ = GridSearchCV(RandomForestRegressor(), RF_params_, cv=10)\n",
    "RF_model_.fit(X = X_train,\n",
    "              y = y_train)\n",
    "\n",
    "prediction_ = RF_model_.best_estimator_.predict(X_test)\n",
    "RF_MAE_ = mean_absolute_error(prediction_, y_test)\n",
    "RF_MSE_ = mean_squared_error(prediction_, y_test)\n",
    "RF_MAPE_ = mean_absolute_percentage_error(prediction_, y_test)\n",
    "RF_R2_ = RF_model_.best_estimator_.score(X_test, y_test)\n",
    "\n",
    "print('Прочность при растяжении')\n",
    "print(f'Лучшие найденные параметры: {RF_model_.best_estimator_}')\n",
    "print(f'MAE: {round(RF_MAE_, 5)}')\n",
    "print(f'MSE: {round(RF_MSE_, 5)}')\n",
    "print(f'MAPE: {round(RF_MAPE_, 5)}')\n",
    "print(f'R2: {round(RF_R2_, 5)}')"
   ]
  },
  {
   "cell_type": "code",
   "execution_count": 52,
   "id": "4a81e4d5-9fc7-457d-bee6-3f6d607f77bf",
   "metadata": {},
   "outputs": [],
   "source": [
    "# GradientBoostingRegressor"
   ]
  },
  {
   "cell_type": "code",
   "execution_count": 30,
   "id": "69270b13-a6c7-467e-ae1e-b3619daa004e",
   "metadata": {},
   "outputs": [
    {
     "name": "stdout",
     "output_type": "stream",
     "text": [
      "Прочность при растяжении\n",
      "Лучшие найденные параметры: GradientBoostingRegressor(learning_rate=0.004, max_depth=9, max_features='sqrt')\n",
      "MAE: 0.15449\n",
      "MSE: 0.0376\n",
      "MAPE: 0.32082\n",
      "R2: 0.00428\n"
     ]
    }
   ],
   "source": [
    "GB_params_ = {\n",
    "    'learning_rate': np.arange(0.001, 0.1, 0.003),\n",
    "    'max_depth': np.arange(1, 12, 2),\n",
    "    'max_features':['log2','sqrt'],    \n",
    "          }\n",
    "GB_model_ = GridSearchCV(GradientBoostingRegressor(), GB_params_, cv=10)\n",
    "GB_model_.fit(X = X_train,\n",
    "              y = y_train)\n",
    "\n",
    "prediction_ = GB_model.best_estimator_.predict(X_test)\n",
    "GB_MAE_ = mean_absolute_error(prediction_, y_test)\n",
    "GB_MSE_ = mean_squared_error(prediction_, y_test)\n",
    "GB_MAPE_ = mean_absolute_percentage_error(prediction_, y_test)\n",
    "GB_R2_ = GB_model_.best_estimator_.score(X_test, y_test)\n",
    "\n",
    "print('Прочность при растяжении')\n",
    "print(f'Лучшие найденные параметры: {GB_model_.best_estimator_}')\n",
    "print(f'MAE: {round(GB_MAE_, 5)}')\n",
    "print(f'MSE: {round(GB_MSE_, 5)}')\n",
    "print(f'MAPE: {round(GB_MAPE_, 5)}')\n",
    "print(f'R2: {round(GB_R2_, 5)}')"
   ]
  }
 ],
 "metadata": {
  "kernelspec": {
   "display_name": "Python 3 (ipykernel)",
   "language": "python",
   "name": "python3"
  },
  "language_info": {
   "codemirror_mode": {
    "name": "ipython",
    "version": 3
   },
   "file_extension": ".py",
   "mimetype": "text/x-python",
   "name": "python",
   "nbconvert_exporter": "python",
   "pygments_lexer": "ipython3",
   "version": "3.9.13"
  }
 },
 "nbformat": 4,
 "nbformat_minor": 5
}
